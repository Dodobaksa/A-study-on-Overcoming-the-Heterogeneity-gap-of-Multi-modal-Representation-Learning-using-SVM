{
 "cells": [
  {
   "cell_type": "code",
   "execution_count": 10,
   "id": "13e2a99a",
   "metadata": {},
   "outputs": [],
   "source": [
    "import pandas as pd\n",
    "import numpy as np\n",
    "from tqdm import tqdm\n",
    "import re\n",
    "import gensim\n",
    "from gensim.models.doc2vec import TaggedDocument\n",
    "from konlpy.tag import Komoran\n",
    "import cv2\n",
    "import timm\n",
    "import torch\n",
    "import torch.nn as nn\n",
    "import torch.nn.functional as F\n",
    "from torchvision import transforms, datasets\n",
    "from PIL import Image\n",
    "import PIL\n",
    "import albumentations as A\n",
    "from albumentations.pytorch.transforms import ToTensorV2\n",
    "import torchvision.transforms as transforms\n",
    "from sklearn.preprocessing import LabelEncoder\n",
    "\n",
    "import matplotlib.pyplot as plt\n",
    "from sklearn import svm\n",
    "from sklearn.preprocessing import MinMaxScaler,StandardScaler\n",
    "from sklearn.decomposition import PCA\n",
    "from sklearn.model_selection import train_test_split\n",
    "from tensorflow.keras.models import Sequential\n",
    "from tensorflow.keras.layers import Dense\n",
    "import tensorflow as tf\n",
    "import keras\n",
    "from sklearn.metrics import precision_score, recall_score, f1_score, confusion_matrix, precision_recall_curve, accuracy_score,roc_auc_score\n",
    "from imblearn.over_sampling import ADASYN\n",
    "from collections import Counter"
   ]
  },
  {
   "cell_type": "code",
   "execution_count": 6,
   "id": "6f9684b7",
   "metadata": {},
   "outputs": [],
   "source": [
    "df = pd.read_csv('./train.csv')"
   ]
  },
  {
   "cell_type": "code",
   "execution_count": 15,
   "id": "85e7d91e",
   "metadata": {},
   "outputs": [],
   "source": [
    "# 라벨 인코더 생성\n",
    "encoder = LabelEncoder()\n",
    "\n",
    "# X_train데이터를 이용 피팅하고 라벨숫자로 변환한다\n",
    "encoder.fit(df['cat3'])\n",
    "#df['cat1'] = encoder.transform(df['cat1'])\n",
    "df['cat3'] = encoder.transform(df['cat3'])"
   ]
  },
  {
   "cell_type": "code",
   "execution_count": 17,
   "id": "040b660d",
   "metadata": {},
   "outputs": [],
   "source": [
    "Y=df['cat1']"
   ]
  },
  {
   "cell_type": "code",
   "execution_count": 18,
   "id": "17dc7aeb",
   "metadata": {},
   "outputs": [
    {
     "data": {
      "text/plain": [
       "4    5614\n",
       "3    4912\n",
       "0    2611\n",
       "5    1719\n",
       "2    1434\n",
       "1     696\n",
       "Name: cat1, dtype: int64"
      ]
     },
     "execution_count": 18,
     "metadata": {},
     "output_type": "execute_result"
    }
   ],
   "source": [
    "Y.value_counts()"
   ]
  },
  {
   "cell_type": "markdown",
   "id": "6e848ac9",
   "metadata": {},
   "source": [
    "# concat and Vector extraction"
   ]
  },
  {
   "cell_type": "code",
   "execution_count": 20,
   "id": "a241347c",
   "metadata": {},
   "outputs": [
    {
     "data": {
      "text/html": [
       "<div>\n",
       "<style scoped>\n",
       "    .dataframe tbody tr th:only-of-type {\n",
       "        vertical-align: middle;\n",
       "    }\n",
       "\n",
       "    .dataframe tbody tr th {\n",
       "        vertical-align: top;\n",
       "    }\n",
       "\n",
       "    .dataframe thead th {\n",
       "        text-align: right;\n",
       "    }\n",
       "</style>\n",
       "<table border=\"1\" class=\"dataframe\">\n",
       "  <thead>\n",
       "    <tr style=\"text-align: right;\">\n",
       "      <th></th>\n",
       "      <th>id</th>\n",
       "      <th>img_path</th>\n",
       "      <th>overview</th>\n",
       "      <th>cat1</th>\n",
       "      <th>cat2</th>\n",
       "      <th>cat3</th>\n",
       "    </tr>\n",
       "  </thead>\n",
       "  <tbody>\n",
       "    <tr>\n",
       "      <th>0</th>\n",
       "      <td>TRAIN_00000</td>\n",
       "      <td>./image/train/TRAIN_00000.jpg</td>\n",
       "      <td>소안항은 조용한 섬으로 인근해안이 청정해역으로 일찍이 김 양식을 해서 높은 소득을 ...</td>\n",
       "      <td>5</td>\n",
       "      <td>자연관광지</td>\n",
       "      <td>120</td>\n",
       "    </tr>\n",
       "    <tr>\n",
       "      <th>1</th>\n",
       "      <td>TRAIN_00001</td>\n",
       "      <td>./image/train/TRAIN_00001.jpg</td>\n",
       "      <td>경기도 이천시 모가면에 있는 골프장으로 대중제 18홀이다. 회원제로 개장을 했다가 ...</td>\n",
       "      <td>0</td>\n",
       "      <td>육상 레포츠</td>\n",
       "      <td>8</td>\n",
       "    </tr>\n",
       "    <tr>\n",
       "      <th>2</th>\n",
       "      <td>TRAIN_00002</td>\n",
       "      <td>./image/train/TRAIN_00002.jpg</td>\n",
       "      <td>금오산성숯불갈비는 한우고기만을 전문적으로 취급하고 사용하는 부식 자재 또한 유기농법...</td>\n",
       "      <td>3</td>\n",
       "      <td>음식점</td>\n",
       "      <td>118</td>\n",
       "    </tr>\n",
       "    <tr>\n",
       "      <th>3</th>\n",
       "      <td>TRAIN_00003</td>\n",
       "      <td>./image/train/TRAIN_00003.jpg</td>\n",
       "      <td>철판 위에서 요리하는 안동찜닭을 맛볼 수 있는 곳이다. 경상북도 안동시에 있는 한식...</td>\n",
       "      <td>3</td>\n",
       "      <td>음식점</td>\n",
       "      <td>118</td>\n",
       "    </tr>\n",
       "    <tr>\n",
       "      <th>4</th>\n",
       "      <td>TRAIN_00004</td>\n",
       "      <td>./image/train/TRAIN_00004.jpg</td>\n",
       "      <td>※ 영업시간 10:30 ~ 20:30\\n\\n3대에 걸쳐 아귀만을 전문으로 취급하는 ...</td>\n",
       "      <td>3</td>\n",
       "      <td>음식점</td>\n",
       "      <td>118</td>\n",
       "    </tr>\n",
       "    <tr>\n",
       "      <th>...</th>\n",
       "      <td>...</td>\n",
       "      <td>...</td>\n",
       "      <td>...</td>\n",
       "      <td>...</td>\n",
       "      <td>...</td>\n",
       "      <td>...</td>\n",
       "    </tr>\n",
       "    <tr>\n",
       "      <th>16981</th>\n",
       "      <td>TRAIN_16981</td>\n",
       "      <td>./image/train/TRAIN_16981.jpg</td>\n",
       "      <td>해발 12000m에 자리한 식담겸 카페점문점이다.&lt;br&gt;곤드레밥과 감자전을 판매하고...</td>\n",
       "      <td>3</td>\n",
       "      <td>음식점</td>\n",
       "      <td>118</td>\n",
       "    </tr>\n",
       "    <tr>\n",
       "      <th>16982</th>\n",
       "      <td>TRAIN_16982</td>\n",
       "      <td>./image/train/TRAIN_16982.jpg</td>\n",
       "      <td>설악힐호텔은 동해고속도로 속초톨게이트에서 멀지 않은 관광로 변에 있다. 속초의 대표...</td>\n",
       "      <td>2</td>\n",
       "      <td>숙박시설</td>\n",
       "      <td>31</td>\n",
       "    </tr>\n",
       "    <tr>\n",
       "      <th>16983</th>\n",
       "      <td>TRAIN_16983</td>\n",
       "      <td>./image/train/TRAIN_16983.jpg</td>\n",
       "      <td>충남 서산시 중심가에 위치한 줌모텔은 프라이버스가 보장되는 조용한 공간으로 가치가 ...</td>\n",
       "      <td>2</td>\n",
       "      <td>숙박시설</td>\n",
       "      <td>31</td>\n",
       "    </tr>\n",
       "    <tr>\n",
       "      <th>16984</th>\n",
       "      <td>TRAIN_16984</td>\n",
       "      <td>./image/train/TRAIN_16984.jpg</td>\n",
       "      <td>토토큰바위캠핑장은 경기도 가평지역 내에서도 청정지역으로 손꼽히는 지역으로 주변에 화...</td>\n",
       "      <td>0</td>\n",
       "      <td>육상 레포츠</td>\n",
       "      <td>73</td>\n",
       "    </tr>\n",
       "    <tr>\n",
       "      <th>16985</th>\n",
       "      <td>TRAIN_16985</td>\n",
       "      <td>./image/train/TRAIN_16985.jpg</td>\n",
       "      <td>포천의 진산으로 불리우는 왕방산(王訪山)에는 천년의 역사를 간직하고 있는 왕산사(王...</td>\n",
       "      <td>4</td>\n",
       "      <td>역사관광지</td>\n",
       "      <td>52</td>\n",
       "    </tr>\n",
       "  </tbody>\n",
       "</table>\n",
       "<p>16986 rows × 6 columns</p>\n",
       "</div>"
      ],
      "text/plain": [
       "                id                       img_path  \\\n",
       "0      TRAIN_00000  ./image/train/TRAIN_00000.jpg   \n",
       "1      TRAIN_00001  ./image/train/TRAIN_00001.jpg   \n",
       "2      TRAIN_00002  ./image/train/TRAIN_00002.jpg   \n",
       "3      TRAIN_00003  ./image/train/TRAIN_00003.jpg   \n",
       "4      TRAIN_00004  ./image/train/TRAIN_00004.jpg   \n",
       "...            ...                            ...   \n",
       "16981  TRAIN_16981  ./image/train/TRAIN_16981.jpg   \n",
       "16982  TRAIN_16982  ./image/train/TRAIN_16982.jpg   \n",
       "16983  TRAIN_16983  ./image/train/TRAIN_16983.jpg   \n",
       "16984  TRAIN_16984  ./image/train/TRAIN_16984.jpg   \n",
       "16985  TRAIN_16985  ./image/train/TRAIN_16985.jpg   \n",
       "\n",
       "                                                overview  cat1    cat2  cat3  \n",
       "0      소안항은 조용한 섬으로 인근해안이 청정해역으로 일찍이 김 양식을 해서 높은 소득을 ...     5   자연관광지   120  \n",
       "1      경기도 이천시 모가면에 있는 골프장으로 대중제 18홀이다. 회원제로 개장을 했다가 ...     0  육상 레포츠     8  \n",
       "2      금오산성숯불갈비는 한우고기만을 전문적으로 취급하고 사용하는 부식 자재 또한 유기농법...     3     음식점   118  \n",
       "3      철판 위에서 요리하는 안동찜닭을 맛볼 수 있는 곳이다. 경상북도 안동시에 있는 한식...     3     음식점   118  \n",
       "4      ※ 영업시간 10:30 ~ 20:30\\n\\n3대에 걸쳐 아귀만을 전문으로 취급하는 ...     3     음식점   118  \n",
       "...                                                  ...   ...     ...   ...  \n",
       "16981  해발 12000m에 자리한 식담겸 카페점문점이다.<br>곤드레밥과 감자전을 판매하고...     3     음식점   118  \n",
       "16982  설악힐호텔은 동해고속도로 속초톨게이트에서 멀지 않은 관광로 변에 있다. 속초의 대표...     2    숙박시설    31  \n",
       "16983  충남 서산시 중심가에 위치한 줌모텔은 프라이버스가 보장되는 조용한 공간으로 가치가 ...     2    숙박시설    31  \n",
       "16984  토토큰바위캠핑장은 경기도 가평지역 내에서도 청정지역으로 손꼽히는 지역으로 주변에 화...     0  육상 레포츠    73  \n",
       "16985  포천의 진산으로 불리우는 왕방산(王訪山)에는 천년의 역사를 간직하고 있는 왕산사(王...     4   역사관광지    52  \n",
       "\n",
       "[16986 rows x 6 columns]"
      ]
     },
     "execution_count": 20,
     "metadata": {},
     "output_type": "execute_result"
    }
   ],
   "source": [
    "df"
   ]
  },
  {
   "cell_type": "code",
   "execution_count": 69,
   "id": "bad02623",
   "metadata": {},
   "outputs": [
    {
     "data": {
      "text/plain": [
       "'1982. 6. 26 경포도립공원으로 지정면적 9.471㎢, 강원도 고시 제90호 되었으며, 강릉시 중심가에서 북쪽으로 약 6km 떨어져 있는 경포대, 경포호, 경포해수욕장을 중심으로 많은 문화재와 기념물 등이 있는 지역이다. 특히 경포호는 천연기념물인 고니, 청둥오리 등이 도래 하는 곳이기도 하다.\\n\\n관동 8경 중의 하나인 경포대는 대보름 달맞이 장소로 유명하며, 경포호에서의 낚시는 이 곳을 찾는 이의 여유로움을 돋우기에 충분한 곳이다.현재는 자연보호지역으로 낚시를 금지하고 있다.\\n\\n동해안 제일의 해수욕장인 맑고 깨끗한 경포해수욕장과 아름다운 경포호, 경포대, 방해정, 호해정, 경호정, 경양사 등이 산재하여 있으며 여름철 해수욕 뿐만 아니라 봄 벚꽃놀이, 연중가능한 낚시, 겨울바다의 낭만 등을 즐길 수 있는 사계절 관광지로 면모를 일신하고 있으며 강원도 특산인 오징어회를 비롯하여 각종 싱싱한 회, 매운탕, 초당두부 등 강릉의 독특한 맛을 찾을수 있다.\\n\\n* 경포팔경\\n 1 녹두일출\\n녹두정에서 동해의 일출을 바라보는 것을 말하며, 옛 한송정으로서 현 강릉비행장 동쪽에 위치하였으며, 경포대의 正東을 가리킨다. 새벽에 대에 올라 동해를 바라보면, 용광로처럼 붉게 타오르는 웅장한 태양이 바다를 온통 붉게 물들이며 서서히 떠오르는 순간은 신비스러울만큼 황홀하고 아름답다. 이 장엄하고 경의로운 일출을 첫째로 꼽았다.\\n \\n2 죽도명월\\n호수 동쪽에 있는 섬모양의 작은 산으로서 산죽이 무성하여 죽도라고 불렸는데 현 현대호텔 자리이다. 동쪽 수평선 너머에서 솟아오르는 보름달의 달빛이 죽도의 대나무 사이를 뚫어 그 빛이 호수에 비칠 때 일어나는 그림같은 장관을 죽도 명월이라 하였다. 멀리는 하늘의 달과 가까이는 바다와 호수의 달이 잇닿아 월주를 이루고 은파위의 월굴이 백해중으로부터 호심을 꿰뚫어 대 앞에까지 수십리를 뻗친, 장엄하고도  기묘한 전망을 찬미한 것이다.\\n\\n3 강문어화\\n강문은 경포대에서 동쪽호수 하구에 있는 곳으로서 호수와 바다를 상통 교류케 하므로 강문이라고 했다. 밤에 경포대에서 강문쪽바다를 건너다 보면, 오징어 잡는 고기배의 불빛이 마치 항구의 불빛처럼 휘황찬란하게 보이는데, 그 빛이 바다와 호수에 영도되는 아름다운 광경을 말한다.\\n\\n4 초당취연\\n초당은 호수의 동남쪽에 있는 마을로서 지세가 호수와 바다보다 낮은듯 보인다. 그래서인지 멀리서 보면 깊은 두메산골 같은 맛을 나게하며, 마을둘레는 낙낙장송이 울창하고 대지는 비습하여 잡목과 잡초가 무성하다. 해가 서산마루 시루봉에 기울어질 무렵이면 집집마다 저녁을 짓는데 이때 가가호호마다 굴뚝에서 피어오르는 하얀 연기가 노을에 물들어 평화로운 농촌을 연상케 하는데 그 평화로운 아름다움을 말한 것이다.\\n\\n5 홍장야우\\n홍장은 조선 초기에 석간 조운흘 부사가 강릉에 있을 즈음 부예기로 있었던 여인이었다. 어느날 모 감찰사가 강릉을 순방했을 때, 부사는 호수에다 배를 띄어놓고 부예기 홍장을 불러놓고 가야금을 켜며 감찰사를 극진히 대접했는데 미모가 뛰어났던 홍장은 그날밤 감찰사의 사랑을 흠뻑 받았다.  그 감찰사는 뒷날 홍장과 석별하면서 몇 개월 후에 다시 오겠다고 언약을 남기고 떠나간다. 그러나 한 번 가신 님은 소식이 없다. 그리움에 사무친 홍장은 감찰사와 뱃놀이 하며 즐겁게 놀던 호수에 나가 넋을 잃고 앉아서 탄식하고 있는데, 이때 자욱한 안개 사이로 감찰사의 환상이 나타나 홍장을 부른다.  홍장은 깜짝 놀라면서 너무 반가워 그쪽으로 달려가다 그만 호수에 빠져 죽는다. 이 때부터 이 바위를 홍장암이라 부르게 되었으며, 안개 낀 비오는 날 밤이면 여인의 구슬픈 울음소리가 들려온다고 전한다. 꽃배에 임을 싣고 가야금에 흥을 돋우며 술한잔 기울이던 옛 선조들의 풍류정신을 회상하기 위한 기념으로서의 일경이다.\\n\\n6 중봉낙조\\n시루봉은 경포대 북서쪽에 있으며, 그 생긴 봉우리 모양이 시루와 비슷하다하여 시루봉이라고 한다.  해가 서산마루에 기울어질 무렵이면 채운이 시루봉 북쪽 봉우리에서 경포 호수에 반영되는 일몰의 낙조가 잔물결에 부서지는 아름다운 광경을 말한다.\\n\\n7 환선취적\\n시루봉의 상선봉에 신라 선인들이 풍류를 즐기며 바둑을 놓고 놀던 곳이 있었는데 고요한 날 밝은 밤이면 어디서 부터인가 구슬픈 피리 소리가 바람결에 은은히 들려왔다 한다. 지금도 달밝은 밤이면 산자수명한 제일강산에 구름 밖으로부터 피리소리가 들려오는 듯한 느낌이 든다. 아무튼 경포대의 환선취적은 신선경인 듯 하면서도, 속세를 떠난 속세인 듯 하면서도 신선경으로 생각되는 곳에 옛 신선들이 바둑놓고 피리불며 즐기던 지난날을 회상하는 것을 말한다.\\n\\n8 한송모종\\n한송정은 지금의 비행장 동쪽에 있다. 녹두정이라 불렸던  이 정자는 화랑도들의 수양의 도장으로 지었던 것으로 지금은 석조.석지.석정만이 남아 있다. 신라 불교의 중흥기에 한송정에서 해질 무렵 치는 종소리가 경호의 잔물결을 타고 신선이 놀던 경포대까지 은은히 들려오던 옛 정취를 회상한 것이다.'"
      ]
     },
     "execution_count": 69,
     "metadata": {},
     "output_type": "execute_result"
    }
   ],
   "source": [
    "df['overview'][2677]"
   ]
  },
  {
   "cell_type": "code",
   "execution_count": 70,
   "id": "0a309a0c",
   "metadata": {
    "scrolled": true
   },
   "outputs": [
    {
     "name": "stderr",
     "output_type": "stream",
     "text": [
      "  0%|                                                                                        | 0/14309 [00:00<?, ?it/s]C:\\Users\\gram\\AppData\\Local\\Temp\\ipykernel_20316\\4023705023.py:2: SettingWithCopyWarning: \n",
      "A value is trying to be set on a copy of a slice from a DataFrame\n",
      "\n",
      "See the caveats in the documentation: https://pandas.pydata.org/pandas-docs/stable/user_guide/indexing.html#returning-a-view-versus-a-copy\n",
      "  df['overview'][i] = df['overview'][i].replace('休靜','').replace('黃嶺庵記','') \\\n",
      "100%|████████████████████████████████████████████████████████████████████████████| 14309/14309 [05:43<00:00, 41.63it/s]\n"
     ]
    }
   ],
   "source": [
    "for i in tqdm(range(2677,len(df))):\n",
    "    df['overview'][i] = df['overview'][i].replace('休靜','').replace('黃嶺庵記','') \\\n",
    "    .replace('[','').replace(')','').replace('(','').replace(']','').replace('*','').replace('m','').replace('-','').replace('~','')\\\n",
    "    .replace('k','').replace(',','').replace('.','').replace('\\n','')"
   ]
  },
  {
   "cell_type": "code",
   "execution_count": 71,
   "id": "bfba5853",
   "metadata": {
    "scrolled": true
   },
   "outputs": [
    {
     "name": "stderr",
     "output_type": "stream",
     "text": [
      "100%|███████████████████████████████████████████████████████████████████████████| 16986/16986 [02:13<00:00, 127.14it/s]"
     ]
    },
    {
     "name": "stdout",
     "output_type": "stream",
     "text": [
      "문서의 수 : 16986\n"
     ]
    },
    {
     "name": "stderr",
     "output_type": "stream",
     "text": [
      "\n"
     ]
    }
   ],
   "source": [
    "komoran = Komoran()\n",
    "\n",
    "tagged_corpus_list_tr = []\n",
    "\n",
    "for index, row in tqdm(df.iterrows(), total=len(df)):\n",
    "    text = row['overview']\n",
    "    #tag = row['id']\n",
    "    tagged_corpus_list_tr.append(TaggedDocument(tags=['tweet_'+str(index)], words=komoran.morphs(text)))\n",
    "\n",
    "print('문서의 수 :', len(tagged_corpus_list_tr))"
   ]
  },
  {
   "cell_type": "code",
   "execution_count": 72,
   "id": "bd1d6efa",
   "metadata": {},
   "outputs": [],
   "source": [
    "model_d2v = gensim.models.Doc2Vec(dm=1, # dm = 1 for ‘distributed memory’ model\n",
    "                                  dm_mean=1, # dm_mean = 1 for using mean of the context word vectors\n",
    "                                  vector_size=250, # no. of desired features\n",
    "                                  window=5, # width of the context window                                  \n",
    "                                  negative=7, # if > 0 then negative sampling will be used\n",
    "                                  min_count=3, # Ignores all words with total frequency lower than 5.                                  \n",
    "                                  workers=32, # no. of cores                                  \n",
    "                                  alpha=0.1, # learning rate                                  \n",
    "                                  seed = 1992, # for reproducibility\n",
    "                                 ) "
   ]
  },
  {
   "cell_type": "code",
   "execution_count": 74,
   "id": "9fe76dd6",
   "metadata": {},
   "outputs": [
    {
     "name": "stderr",
     "output_type": "stream",
     "text": [
      "100%|███████████████████████████████████████████████████████████████████████| 16986/16986 [00:00<00:00, 2413429.80it/s]\n"
     ]
    }
   ],
   "source": [
    "model_d2v.build_vocab([i for i in tqdm(tagged_corpus_list_tr)])\n",
    "\n",
    "model_d2v.train(tagged_corpus_list_tr, total_examples= len(df), epochs=100)"
   ]
  },
  {
   "cell_type": "code",
   "execution_count": 75,
   "id": "afb58c52",
   "metadata": {},
   "outputs": [
    {
     "name": "stderr",
     "output_type": "stream",
     "text": [
      "C:\\Users\\gram\\AppData\\Local\\Temp\\ipykernel_20316\\1940117879.py:3: DeprecationWarning: Call to deprecated `docvecs` (The `docvecs` property has been renamed `dv`.).\n",
      "  docvec_arrays[i,:] = model_d2v.docvecs[i].reshape((1,250))\n"
     ]
    },
    {
     "data": {
      "text/plain": [
       "(16986, 250)"
      ]
     },
     "execution_count": 75,
     "metadata": {},
     "output_type": "execute_result"
    }
   ],
   "source": [
    "docvec_arrays = np.zeros((len(df), 250)) \n",
    "for i in range(0,len(df)):\n",
    "    docvec_arrays[i,:] = model_d2v.docvecs[i].reshape((1,250))\n",
    "doc_vectors = pd.DataFrame(docvec_arrays) \n",
    "doc_vectors.shape"
   ]
  },
  {
   "cell_type": "code",
   "execution_count": 76,
   "id": "1bd4d0a8",
   "metadata": {},
   "outputs": [],
   "source": [
    "doc_vectors.to_csv('text_vectors.csv')"
   ]
  },
  {
   "cell_type": "markdown",
   "id": "fdaf23a7",
   "metadata": {},
   "source": [
    "# Image Vector Extraction"
   ]
  },
  {
   "cell_type": "code",
   "execution_count": 77,
   "id": "4f80dae1",
   "metadata": {},
   "outputs": [],
   "source": [
    "CFG = {\n",
    "    'IMG_SIZE':256,\n",
    "    'EPOCHS':30,\n",
    "    'LEARNING_RATE':3e-4,\n",
    "    'BATCH_SIZE':256,\n",
    "    'SEED':41\n",
    "}\n",
    "# 이미지 사이즈, 에폭, 학습률, 배치사이즈, 시드 고정"
   ]
  },
  {
   "cell_type": "code",
   "execution_count": 78,
   "id": "4c756099",
   "metadata": {},
   "outputs": [
    {
     "name": "stderr",
     "output_type": "stream",
     "text": [
      "Downloading: \"https://github.com/rwightman/pytorch-image-models/releases/download/v0.1-weights/seresnext26d_32x4d-80fa48a3.pth\" to C:\\Users\\gram/.cache\\torch\\hub\\checkpoints\\seresnext26d_32x4d-80fa48a3.pth\n"
     ]
    }
   ],
   "source": [
    "cnn_extract = timm.create_model('seresnext26d_32x4d', pretrained=True)\n",
    "cnn_extract=nn.Sequential(*list(cnn_extract.children())[:-1],\n",
    "                              nn.Linear(2048,1024),\n",
    "                              nn.ReLU(),\n",
    "                              nn.Linear(1024,250),\n",
    "                              nn.ReLU())"
   ]
  },
  {
   "cell_type": "code",
   "execution_count": 79,
   "id": "56e30664",
   "metadata": {},
   "outputs": [],
   "source": [
    "transform = transforms.Compose([\n",
    "    transforms.Resize((224, 224)),\n",
    "    transforms.ToTensor(),\n",
    "    transforms.Normalize((0.485, 0.456, 0.406), (0.229, 0.224, 0.225)),\n",
    "])"
   ]
  },
  {
   "cell_type": "code",
   "execution_count": 80,
   "id": "de6ae046",
   "metadata": {},
   "outputs": [
    {
     "name": "stderr",
     "output_type": "stream",
     "text": [
      "100%|████████████████████████████████████████████████████████████████████████████| 16986/16986 [55:35<00:00,  5.09it/s]\n"
     ]
    }
   ],
   "source": [
    "imag_fetures=[]\n",
    "img_path_list= df['img_path']\n",
    "for ind in tqdm(range(0,len(df))):\n",
    "    image = PIL.Image.open(df['img_path'][ind]).convert('RGB')\n",
    "    img = transform(image)\n",
    "    img = img.reshape(1,3,224,224)\n",
    "    img_feature = cnn_extract(img)\n",
    "    img_feature = img_feature[0].detach().numpy()\n",
    "    imag_fetures.append(img_feature)"
   ]
  },
  {
   "cell_type": "code",
   "execution_count": 81,
   "id": "bcd0936a",
   "metadata": {},
   "outputs": [],
   "source": [
    "img_vec = pd.DataFrame(imag_fetures)\n",
    "img_vec.to_csv('./img_vecs.csv')"
   ]
  }
 ],
 "metadata": {
  "kernelspec": {
   "display_name": "Python 3 (ipykernel)",
   "language": "python",
   "name": "python3"
  },
  "language_info": {
   "codemirror_mode": {
    "name": "ipython",
    "version": 3
   },
   "file_extension": ".py",
   "mimetype": "text/x-python",
   "name": "python",
   "nbconvert_exporter": "python",
   "pygments_lexer": "ipython3",
   "version": "3.9.7"
  }
 },
 "nbformat": 4,
 "nbformat_minor": 5
}
