{
 "cells": [
  {
   "cell_type": "markdown",
   "id": "53959745",
   "metadata": {},
   "source": [
    "# Load Library"
   ]
  },
  {
   "cell_type": "code",
   "execution_count": 1,
   "id": "f566f609",
   "metadata": {},
   "outputs": [],
   "source": [
    "import pandas as pd\n",
    "import seaborn as sns\n",
    "import matplotlib.pyplot as plt\n",
    "import scipy\n",
    "import numpy as np\n",
    "from sklearn import svm\n",
    "from sklearn.preprocessing import MinMaxScaler,StandardScaler,RobustScaler\n",
    "from sklearn.decomposition import PCA\n",
    "from sklearn.model_selection import train_test_split\n",
    "from scipy.spatial import distance\n",
    "import math\n",
    "from sklearn import preprocessing\n",
    "from tqdm import tqdm\n",
    "from tensorflow.keras.models import Sequential\n",
    "from tensorflow.keras.layers import Dense, Dropout\n",
    "import tensorflow as tf\n",
    "from operator import mul\n",
    "from scipy.spatial import distance\n",
    "import seaborn as sns\n",
    "import lightgbm as lgb\n",
    "from tensorflow.keras.layers import Input, Dense,Multiply,Add, concatenate\n",
    "from tensorflow.keras.models import Model\n",
    "from sklearn.cluster import KMeans\n",
    "from sklearn.metrics import accuracy_score, recall_score, f1_score, confusion_matrix, precision_recall_curve,roc_auc_score,precision_score"
   ]
  },
  {
   "cell_type": "markdown",
   "id": "107f381a",
   "metadata": {},
   "source": [
    "# Data Load"
   ]
  },
  {
   "cell_type": "code",
   "execution_count": 2,
   "id": "d1cf73c4",
   "metadata": {},
   "outputs": [],
   "source": [
    "te = pd.read_csv('text_vectors.csv') # Doc2vec으로 뽑은 10차원의 Vector들\n",
    "te.drop('Unnamed: 0',axis=1,inplace=True)\n",
    "\n",
    "images = pd.read_csv('img_vecs.csv') # CNN으로 뽑은 10차원의 Vector들\n",
    "images.drop('Unnamed: 0',axis=1,inplace=True)"
   ]
  },
  {
   "cell_type": "code",
   "execution_count": 3,
   "id": "f2643d45",
   "metadata": {},
   "outputs": [],
   "source": [
    "label = pd.read_csv('label.csv')\n",
    "\n",
    "Y= label['2_way_label']"
   ]
  },
  {
   "cell_type": "code",
   "execution_count": 4,
   "id": "be3eca45",
   "metadata": {},
   "outputs": [],
   "source": [
    "data = pd.concat([te,images],axis=1)\n",
    "data.reset_index(drop=True,inplace=True)\n",
    "\n",
    "\n",
    "text = data.iloc[:,:100]\n",
    "img = data.iloc[:,100:]\n",
    "\n",
    "text.columns=range(0,100)\n",
    "img .columns=range(0,100)\n",
    "\n",
    "text['img=1']=0\n",
    "img['img=1']=1\n",
    "\n",
    "d_for_eda = pd.concat([text,img],axis=0)"
   ]
  },
  {
   "cell_type": "markdown",
   "id": "11c54d5a",
   "metadata": {},
   "source": [
    "# Original Distribution Visualize"
   ]
  },
  {
   "cell_type": "code",
   "execution_count": 5,
   "id": "5bc59201",
   "metadata": {},
   "outputs": [],
   "source": [
    "x = d_for_eda.drop(['img=1'],axis=1)\n",
    "y = d_for_eda['img=1']\n",
    "\n",
    "x.reset_index(drop=True,inplace=True)"
   ]
  },
  {
   "cell_type": "code",
   "execution_count": 6,
   "id": "813b9e2a",
   "metadata": {},
   "outputs": [],
   "source": [
    "# PCA로 2차원으로 줄인 후, 시각화하는 함수 선언\n",
    "def plot_3d_space(X, y, label='Classes'):   \n",
    "    colors = ['#1F77B4', '#FF7F0E','#00FFFF']\n",
    "    markers = ['o', 's','d']\n",
    "    for l, c, m in zip(np.unique(y), colors, markers):\n",
    "        plt.scatter(\n",
    "            X[y==l, 0],\n",
    "            X[y==l, 1],\n",
    "            X[y==l, 2],\n",
    "            c=c, label=l, marker=m\n",
    "        )\n",
    "    plt.title(label)\n",
    "    plt.legend(loc='upper right')\n",
    "    plt.show()"
   ]
  },
  {
   "cell_type": "code",
   "execution_count": 7,
   "id": "edc82702",
   "metadata": {},
   "outputs": [],
   "source": [
    "# PCA로 2차원으로 줄인 후, 시각화하는 함수 선언\n",
    "def plot_2d_space(X, y, label='Classes'):   \n",
    "    colors = ['#1F77B4', '#FF7F0E']\n",
    "    markers = ['o', 's']\n",
    "    for l, c, m in zip(np.unique(y), colors, markers):\n",
    "        plt.scatter(\n",
    "            X[y==l, 0],\n",
    "            X[y==l, 1],\n",
    "            c=c, label=l, marker=m\n",
    "        )\n",
    "    plt.title(label)\n",
    "    plt.legend(loc='upper right')\n",
    "    plt.show()"
   ]
  },
  {
   "cell_type": "code",
   "execution_count": 8,
   "id": "d59e90a3",
   "metadata": {},
   "outputs": [
    {
     "data": {
      "image/png": "[encoded data removed]",
      "text/plain": [
       "<Figure size 432x288 with 1 Axes>"
      ]
     },
     "metadata": {
      "needs_background": "light"
     },
     "output_type": "display_data"
    }
   ],
   "source": [
    "# 원본 데이터 분포\n",
    "pca = PCA(n_components=2)\n",
    "X = pca.fit_transform(x)\n",
    "plot_2d_space(X, y, 'distribution')"
   ]
  },
  {
   "cell_type": "markdown",
   "id": "f7c5b1b7",
   "metadata": {},
   "source": [
    "# Vector Nomalize"
   ]
  },
  {
   "cell_type": "code",
   "execution_count": 9,
   "id": "3930c060",
   "metadata": {},
   "outputs": [
    {
     "name": "stderr",
     "output_type": "stream",
     "text": [
      "100%|█████████████████████████████████████████████████████████████████████████| 32248/32248 [00:01<00:00, 24022.47it/s]\n"
     ]
    }
   ],
   "source": [
    "d_for_eda.drop('img=1',axis=1,inplace=True)\n",
    "\n",
    "norm_vec=[]\n",
    "for i in tqdm(range(0,len(d_for_eda))):\n",
    "    dot = d_for_eda.iloc[i:i+1,:].values\n",
    "    norm = np.sqrt(np.dot(dot[0],dot[0]))\n",
    "    scaled = (dot[0] / norm)\n",
    "    norm_vec.append(scaled)\n",
    "\n",
    "norm_vec = pd.DataFrame(np.array(norm_vec).reshape(len(data)*2,100))"
   ]
  },
  {
   "cell_type": "code",
   "execution_count": 10,
   "id": "70a4b109",
   "metadata": {},
   "outputs": [],
   "source": [
    "norm_vec.reset_index(drop=True,inplace=True)\n",
    "\n",
    "\n",
    "text_norm = norm_vec.iloc[:len(te),:]\n",
    "img_norm = norm_vec.iloc[len(te):,:]\n",
    "\n",
    "text_norm.columns=range(0,100)\n",
    "img_norm .columns=range(0,100)"
   ]
  },
  {
   "cell_type": "markdown",
   "id": "a9e98ad7",
   "metadata": {},
   "source": [
    "# Nomalized Vector distribution Visualize"
   ]
  },
  {
   "cell_type": "code",
   "execution_count": 11,
   "id": "f642b375",
   "metadata": {},
   "outputs": [
    {
     "name": "stderr",
     "output_type": "stream",
     "text": [
      "C:\\Users\\user\\AppData\\Local\\Temp/ipykernel_17708/1158323884.py:1: SettingWithCopyWarning: \n",
      "A value is trying to be set on a copy of a slice from a DataFrame.\n",
      "Try using .loc[row_indexer,col_indexer] = value instead\n",
      "\n",
      "See the caveats in the documentation: https://pandas.pydata.org/pandas-docs/stable/user_guide/indexing.html#returning-a-view-versus-a-copy\n",
      "  text_norm['img=1']=0\n",
      "C:\\Users\\user\\AppData\\Local\\Temp/ipykernel_17708/1158323884.py:2: SettingWithCopyWarning: \n",
      "A value is trying to be set on a copy of a slice from a DataFrame.\n",
      "Try using .loc[row_indexer,col_indexer] = value instead\n",
      "\n",
      "See the caveats in the documentation: https://pandas.pydata.org/pandas-docs/stable/user_guide/indexing.html#returning-a-view-versus-a-copy\n",
      "  img_norm['img=1']=1\n"
     ]
    },
    {
     "data": {
      "image/png": "[encoded data removed]",
      "text/plain": [
       "<Figure size 432x288 with 1 Axes>"
      ]
     },
     "metadata": {
      "needs_background": "light"
     },
     "output_type": "display_data"
    }
   ],
   "source": [
    "text_norm['img=1']=0\n",
    "img_norm['img=1']=1\n",
    "d_for_eda = pd.concat([text_norm,img_norm],axis=0)\n",
    "\n",
    "x = d_for_eda.drop(['img=1'],axis=1)\n",
    "y = d_for_eda['img=1']\n",
    "\n",
    "x.reset_index(drop=True,inplace=True)\n",
    "\n",
    "pca = PCA(n_components=2)\n",
    "X = pca.fit_transform(x)\n",
    "plot_2d_space(X, y, 'distribution')"
   ]
  },
  {
   "cell_type": "markdown",
   "id": "9666279c",
   "metadata": {},
   "source": [
    "# Original Data Statisitical Distribution"
   ]
  },
  {
   "cell_type": "code",
   "execution_count": 12,
   "id": "a6785f54",
   "metadata": {},
   "outputs": [
    {
     "data": {
      "text/plain": [
       "<AxesSubplot:ylabel='Density'>"
      ]
     },
     "execution_count": 12,
     "metadata": {},
     "output_type": "execute_result"
    },
    {
     "data": {
      "image/png": "[encoded data removed]",
      "text/plain": [
       "<Figure size 432x288 with 1 Axes>"
      ]
     },
     "metadata": {
      "needs_background": "light"
     },
     "output_type": "display_data"
    }
   ],
   "source": [
    "cv1 = te.mean()\n",
    "cv2 = images.mean()\n",
    "\n",
    "sns.kdeplot(cv1)\n",
    "sns.kdeplot(cv2)"
   ]
  },
  {
   "cell_type": "markdown",
   "id": "00d1ab36",
   "metadata": {},
   "source": [
    "# Getting Weight and Implement Summation"
   ]
  },
  {
   "cell_type": "code",
   "execution_count": 13,
   "id": "c915ae6b",
   "metadata": {},
   "outputs": [],
   "source": [
    "def softmax(x):\n",
    "    e_x = np.exp(x - np.max(x))\n",
    "    return e_x / e_x.sum()"
   ]
  },
  {
   "cell_type": "code",
   "execution_count": 14,
   "id": "ae4168f9",
   "metadata": {},
   "outputs": [],
   "source": [
    "def weighted_sum(text_vec,img_vec,text_norm,img_norm):\n",
    "    # Getting Distance From Hyper Plane\n",
    "    text_norm['img=1']=0\n",
    "    img_norm['img=1']=1\n",
    "    d_for_eda=pd.concat([text_norm,img_norm],axis=0)\n",
    "\n",
    "    x = d_for_eda.drop('img=1',axis=1)\n",
    "    y= d_for_eda['img=1']\n",
    "    \n",
    "    model = svm.SVC(kernel='rbf',decision_function_shape='ovo')\n",
    "    clf = model.fit(x, y)\n",
    "    dis = clf.decision_function(x)\n",
    "    \n",
    "    dis = pd.DataFrame(dis,columns=['distance_ratio'])\n",
    "\n",
    "    x.reset_index(drop=True,inplace=True)\n",
    "    \n",
    "    new = pd.concat([x,dis],axis=1)\n",
    "    \n",
    "    new['distance_ratio'] = abs(new['distance_ratio'])\n",
    "    \n",
    "    new.reset_index(drop=True,inplace=True)\n",
    "    images.reset_index(drop=True,inplace=True)\n",
    "    \n",
    "    # Find a weight with a weight sum of 1\n",
    "\n",
    "    new_te = new.iloc[:len(text_vec),:]\n",
    "    new_img = new.iloc[len(text_vec):,:]\n",
    "    new_img.reset_index(drop=True,inplace=True)\n",
    "    \n",
    "    div = new['distance_ratio'][:len(text_vec)].values+new['distance_ratio'][len(text_vec):].values    \n",
    "    weisum = new_te['distance_ratio']*( new_te['distance_ratio'] / div)+new_img['distance_ratio']*( new_img['distance_ratio'] / div)\n",
    "\n",
    "    img_norm.reset_index(drop=True,inplace=True)\n",
    "    \n",
    "    real_new=pd.concat([text_vec,img_vec],axis=1)\n",
    "    real_new['con_dis'] = weisum\n",
    "\n",
    "    x = real_new.drop(['con_dis'],axis=1)\n",
    "    y = weisum\n",
    "    \n",
    "    inputs = Input(shape=(x.shape[1],))\n",
    "    # MLP\n",
    "    inputs = Input(shape=(x.shape[1],))\n",
    "    Selection = Dense(x.shape[1], activation='sigmoid')(inputs)\n",
    "    Selection = Model(inputs=inputs, outputs=Selection)\n",
    "    Extraction = Dense(x.shape[1], activation='tanh')(inputs)\n",
    "    Extraction = Model(inputs=inputs, outputs=Extraction)\n",
    "    x_multiply = Multiply()([inputs,Selection.output])\n",
    "    Added = Add()([x_multiply, Extraction.output])\n",
    "    model = Model(inputs=inputs, outputs=Added)\n",
    "    \n",
    "    # 모델 컴파일\n",
    "    model.compile(loss='mean_squared_error',\n",
    "                optimizer='adam',\n",
    "                metrics=['MSE'])\n",
    "    \n",
    "    # 모델 실행\n",
    "    model.fit(x, y, epochs=100, batch_size=32)\n",
    "\n",
    "    con_scalar=model.predict(x)\n",
    "    con_scalar = pd.DataFrame(con_scalar)\n",
    "\n",
    "    soft=[]\n",
    "    for i in tqdm(range(0,len(con_scalar))):\n",
    "        soft.append(softmax(con_scalar.iloc[i:i+1,:].values))\n",
    "    new_one = pd.DataFrame(np.array(soft).reshape(len(con_scalar),200))\n",
    "    \n",
    "    text_scalar = new_one.iloc[:,:100]\n",
    "    img_scalar = new_one.iloc[:,100:]\n",
    "    \n",
    "    # Multiply the weight by the distance again\n",
    "    img_scalar.reset_index(drop=True,inplace=True)\n",
    "    new.reset_index(drop=True,inplace=True)\n",
    "    #for i in tqdm(range(0,len(text_vec))):\n",
    "    #    text_scalar.iloc[i:i+1,:100] = text_scalar.iloc[i:i+1,:100]*(new_te['distance_ratio'][i])\n",
    "    #    img_scalar.iloc[i:i+1,:100] = img_scalar.iloc[i:i+1,:100]*(new_img['distance_ratio'][i])\n",
    "        \n",
    "    # Weighted sum\n",
    "    text_sum=text_vec*text_scalar.values\n",
    "    img_sum= img_vec*img_scalar.values\n",
    "    text_sum.reset_index(drop=True,inplace=True)\n",
    "    img_sum.reset_index(drop=True,inplace=True)\n",
    "    vectors=text_sum+img_sum\n",
    "    return vectors"
   ]
  },
  {
   "cell_type": "markdown",
   "id": "89d6d030",
   "metadata": {},
   "source": [
    "# Train Test Split"
   ]
  },
  {
   "cell_type": "code",
   "execution_count": 15,
   "id": "1f2172c9",
   "metadata": {},
   "outputs": [],
   "source": [
    "le = preprocessing.LabelEncoder()\n",
    "le.fit(Y.values) #Y변수 Label Encoding해주기\n",
    "\n",
    "y = le.transform(Y.values)"
   ]
  },
  {
   "cell_type": "code",
   "execution_count": 16,
   "id": "df3629e4",
   "metadata": {},
   "outputs": [],
   "source": [
    "x_te_train,x_te_test,y_train,y_test = train_test_split(te,y,test_size=0.3,random_state=2022,stratify=y)\n",
    "x_img_train,x_img_test,y_train,y_test= train_test_split(images,y,test_size=0.3,random_state=2022,stratify=y)\n",
    "\n",
    "norm_te_train,norm_te_test,y_train,y_test = train_test_split(text_norm,y,test_size=0.3,random_state=2022,stratify=y)\n",
    "norm_img_train,norm_img_test,y_train,y_test= train_test_split(img_norm,y,test_size=0.3,random_state=2022,stratify=y)"
   ]
  },
  {
   "cell_type": "code",
   "execution_count": 17,
   "id": "c872202d",
   "metadata": {
    "scrolled": true
   },
   "outputs": [
    {
     "name": "stdout",
     "output_type": "stream",
     "text": [
      "Epoch 1/100\n",
      "353/353 [==============================] - 0s 623us/step - loss: 0.2560 - MSE: 0.2560\n",
      "Epoch 2/100\n",
      "353/353 [==============================] - 0s 601us/step - loss: 0.0825 - MSE: 0.0825\n",
      "Epoch 3/100\n",
      "353/353 [==============================] - 0s 604us/step - loss: 0.0676 - MSE: 0.0676\n",
      "Epoch 4/100\n",
      "353/353 [==============================] - 0s 609us/step - loss: 0.0606 - MSE: 0.0606\n",
      "Epoch 5/100\n",
      "353/353 [==============================] - 0s 601us/step - loss: 0.0567 - MSE: 0.0567\n",
      "Epoch 6/100\n",
      "353/353 [==============================] - 0s 598us/step - loss: 0.0543 - MSE: 0.0543\n",
      "Epoch 7/100\n",
      "353/353 [==============================] - 0s 601us/step - loss: 0.0527 - MSE: 0.0527\n",
      "Epoch 8/100\n",
      "353/353 [==============================] - 0s 598us/step - loss: 0.0515 - MSE: 0.0515\n",
      "Epoch 9/100\n",
      "353/353 [==============================] - 0s 598us/step - loss: 0.0507 - MSE: 0.0507\n",
      "Epoch 10/100\n",
      "353/353 [==============================] - 0s 601us/step - loss: 0.0500 - MSE: 0.0500\n",
      "Epoch 11/100\n",
      "353/353 [==============================] - 0s 601us/step - loss: 0.0496 - MSE: 0.0496\n",
      "Epoch 12/100\n",
      "353/353 [==============================] - 0s 609us/step - loss: 0.0492 - MSE: 0.0492\n",
      "Epoch 13/100\n",
      "353/353 [==============================] - 0s 601us/step - loss: 0.0489 - MSE: 0.0489\n",
      "Epoch 14/100\n",
      "353/353 [==============================] - 0s 601us/step - loss: 0.0486 - MSE: 0.0486\n",
      "Epoch 15/100\n",
      "353/353 [==============================] - 0s 606us/step - loss: 0.0484 - MSE: 0.0484\n",
      "Epoch 16/100\n",
      "353/353 [==============================] - 0s 609us/step - loss: 0.0483 - MSE: 0.0483\n",
      "Epoch 17/100\n",
      "353/353 [==============================] - 0s 635us/step - loss: 0.0481 - MSE: 0.0481\n",
      "Epoch 18/100\n",
      "353/353 [==============================] - 0s 603us/step - loss: 0.0480 - MSE: 0.0480\n",
      "Epoch 19/100\n",
      "353/353 [==============================] - 0s 595us/step - loss: 0.0479 - MSE: 0.0479\n",
      "Epoch 20/100\n",
      "353/353 [==============================] - 0s 603us/step - loss: 0.0478 - MSE: 0.0478\n",
      "Epoch 21/100\n",
      "353/353 [==============================] - 0s 601us/step - loss: 0.0477 - MSE: 0.0477\n",
      "Epoch 22/100\n",
      "353/353 [==============================] - 0s 601us/step - loss: 0.0477 - MSE: 0.0477\n",
      "Epoch 23/100\n",
      "353/353 [==============================] - 0s 592us/step - loss: 0.0476 - MSE: 0.0476\n",
      "Epoch 24/100\n",
      "353/353 [==============================] - 0s 606us/step - loss: 0.0476 - MSE: 0.0476\n",
      "Epoch 25/100\n",
      "353/353 [==============================] - 0s 606us/step - loss: 0.0475 - MSE: 0.0475\n",
      "Epoch 26/100\n",
      "353/353 [==============================] - 0s 598us/step - loss: 0.0475 - MSE: 0.0475\n",
      "Epoch 27/100\n",
      "353/353 [==============================] - 0s 601us/step - loss: 0.0475 - MSE: 0.0475\n",
      "Epoch 28/100\n",
      "353/353 [==============================] - 0s 592us/step - loss: 0.0475 - MSE: 0.0475\n",
      "Epoch 29/100\n",
      "353/353 [==============================] - 0s 595us/step - loss: 0.0474 - MSE: 0.0474\n",
      "Epoch 30/100\n",
      "353/353 [==============================] - 0s 606us/step - loss: 0.0474 - MSE: 0.0474\n",
      "Epoch 31/100\n",
      "353/353 [==============================] - 0s 609us/step - loss: 0.0474 - MSE: 0.0474\n",
      "Epoch 32/100\n",
      "353/353 [==============================] - 0s 609us/step - loss: 0.0474 - MSE: 0.0474\n",
      "Epoch 33/100\n",
      "353/353 [==============================] - 0s 618us/step - loss: 0.0474 - MSE: 0.0474\n",
      "Epoch 34/100\n",
      "353/353 [==============================] - 0s 615us/step - loss: 0.0474 - MSE: 0.0474\n",
      "Epoch 35/100\n",
      "353/353 [==============================] - 0s 635us/step - loss: 0.0473 - MSE: 0.0473\n",
      "Epoch 36/100\n",
      "353/353 [==============================] - 0s 609us/step - loss: 0.0473 - MSE: 0.0473\n",
      "Epoch 37/100\n",
      "353/353 [==============================] - 0s 595us/step - loss: 0.0473 - MSE: 0.0473\n",
      "Epoch 38/100\n",
      "353/353 [==============================] - 0s 598us/step - loss: 0.0473 - MSE: 0.0473\n",
      "Epoch 39/100\n",
      "353/353 [==============================] - 0s 609us/step - loss: 0.0473 - MSE: 0.0473\n",
      "Epoch 40/100\n",
      "353/353 [==============================] - 0s 589us/step - loss: 0.0473 - MSE: 0.0473\n",
      "Epoch 41/100\n",
      "353/353 [==============================] - 0s 601us/step - loss: 0.0473 - MSE: 0.0473\n",
      "Epoch 42/100\n",
      "353/353 [==============================] - 0s 595us/step - loss: 0.0473 - MSE: 0.0473\n",
      "Epoch 43/100\n",
      "353/353 [==============================] - 0s 595us/step - loss: 0.0473 - MSE: 0.0473\n",
      "Epoch 44/100\n",
      "353/353 [==============================] - 0s 606us/step - loss: 0.0473 - MSE: 0.0473\n",
      "Epoch 45/100\n",
      "353/353 [==============================] - 0s 586us/step - loss: 0.0473 - MSE: 0.0473\n",
      "Epoch 46/100\n",
      "353/353 [==============================] - 0s 595us/step - loss: 0.0473 - MSE: 0.0473\n",
      "Epoch 47/100\n",
      "353/353 [==============================] - 0s 592us/step - loss: 0.0473 - MSE: 0.0473\n",
      "Epoch 48/100\n",
      "353/353 [==============================] - 0s 601us/step - loss: 0.0473 - MSE: 0.0473\n",
      "Epoch 49/100\n",
      "353/353 [==============================] - 0s 609us/step - loss: 0.0473 - MSE: 0.0473\n",
      "Epoch 50/100\n",
      "353/353 [==============================] - 0s 606us/step - loss: 0.0473 - MSE: 0.0473\n",
      "Epoch 51/100\n",
      "353/353 [==============================] - 0s 595us/step - loss: 0.0473 - MSE: 0.0473\n",
      "Epoch 52/100\n",
      "353/353 [==============================] - 0s 626us/step - loss: 0.0473 - MSE: 0.0473\n",
      "Epoch 53/100\n",
      "353/353 [==============================] - 0s 618us/step - loss: 0.0473 - MSE: 0.0473\n",
      "Epoch 54/100\n",
      "353/353 [==============================] - 0s 612us/step - loss: 0.0473 - MSE: 0.0473\n",
      "Epoch 55/100\n",
      "353/353 [==============================] - 0s 620us/step - loss: 0.0473 - MSE: 0.0473\n",
      "Epoch 56/100\n",
      "353/353 [==============================] - 0s 612us/step - loss: 0.0473 - MSE: 0.0473\n",
      "Epoch 57/100\n",
      "353/353 [==============================] - 0s 623us/step - loss: 0.0473 - MSE: 0.0473\n",
      "Epoch 58/100\n",
      "353/353 [==============================] - 0s 612us/step - loss: 0.0473 - MSE: 0.0473\n",
      "Epoch 59/100\n",
      "353/353 [==============================] - 0s 618us/step - loss: 0.0472 - MSE: 0.0472\n",
      "Epoch 60/100\n",
      "353/353 [==============================] - 0s 606us/step - loss: 0.0472 - MSE: 0.0472\n",
      "Epoch 61/100\n",
      "353/353 [==============================] - 0s 626us/step - loss: 0.0472 - MSE: 0.0472\n",
      "Epoch 62/100\n",
      "353/353 [==============================] - 0s 598us/step - loss: 0.0472 - MSE: 0.0472\n",
      "Epoch 63/100\n",
      "353/353 [==============================] - 0s 601us/step - loss: 0.0472 - MSE: 0.0472\n",
      "Epoch 64/100\n",
      "353/353 [==============================] - 0s 609us/step - loss: 0.0472 - MSE: 0.0472\n",
      "Epoch 65/100\n",
      "353/353 [==============================] - 0s 615us/step - loss: 0.0472 - MSE: 0.0472\n",
      "Epoch 66/100\n",
      "353/353 [==============================] - 0s 601us/step - loss: 0.0472 - MSE: 0.0472\n",
      "Epoch 67/100\n",
      "353/353 [==============================] - 0s 629us/step - loss: 0.0472 - MSE: 0.0472\n",
      "Epoch 68/100\n",
      "353/353 [==============================] - 0s 606us/step - loss: 0.0472 - MSE: 0.0472\n",
      "Epoch 69/100\n",
      "353/353 [==============================] - 0s 589us/step - loss: 0.0472 - MSE: 0.0472\n",
      "Epoch 70/100\n",
      "353/353 [==============================] - 0s 586us/step - loss: 0.0472 - MSE: 0.0472\n",
      "Epoch 71/100\n",
      "353/353 [==============================] - 0s 601us/step - loss: 0.0472 - MSE: 0.0472\n",
      "Epoch 72/100\n",
      "353/353 [==============================] - 0s 592us/step - loss: 0.0472 - MSE: 0.0472\n",
      "Epoch 73/100\n",
      "353/353 [==============================] - 0s 601us/step - loss: 0.0472 - MSE: 0.0472\n",
      "Epoch 74/100\n",
      "353/353 [==============================] - 0s 589us/step - loss: 0.0472 - MSE: 0.0472\n",
      "Epoch 75/100\n",
      "353/353 [==============================] - 0s 589us/step - loss: 0.0472 - MSE: 0.0472\n",
      "Epoch 76/100\n",
      "353/353 [==============================] - 0s 592us/step - loss: 0.0472 - MSE: 0.0472\n",
      "Epoch 77/100\n",
      "353/353 [==============================] - 0s 595us/step - loss: 0.0472 - MSE: 0.0472\n",
      "Epoch 78/100\n",
      "353/353 [==============================] - 0s 586us/step - loss: 0.0472 - MSE: 0.0472\n",
      "Epoch 79/100\n",
      "353/353 [==============================] - 0s 620us/step - loss: 0.0472 - MSE: 0.0472\n",
      "Epoch 80/100\n",
      "353/353 [==============================] - 0s 606us/step - loss: 0.0472 - MSE: 0.0472\n",
      "Epoch 81/100\n",
      "353/353 [==============================] - 0s 603us/step - loss: 0.0472 - MSE: 0.0472\n",
      "Epoch 82/100\n",
      "353/353 [==============================] - 0s 598us/step - loss: 0.0472 - MSE: 0.0472\n",
      "Epoch 83/100\n"
     ]
    },
    {
     "name": "stdout",
     "output_type": "stream",
     "text": [
      "353/353 [==============================] - 0s 609us/step - loss: 0.0472 - MSE: 0.0472\n",
      "Epoch 84/100\n",
      "353/353 [==============================] - 0s 598us/step - loss: 0.0472 - MSE: 0.0472\n",
      "Epoch 85/100\n",
      "353/353 [==============================] - 0s 603us/step - loss: 0.0472 - MSE: 0.0472\n",
      "Epoch 86/100\n",
      "353/353 [==============================] - 0s 618us/step - loss: 0.0472 - MSE: 0.0472\n",
      "Epoch 87/100\n",
      "353/353 [==============================] - 0s 609us/step - loss: 0.0472 - MSE: 0.0472\n",
      "Epoch 88/100\n",
      "353/353 [==============================] - 0s 598us/step - loss: 0.0472 - MSE: 0.0472\n",
      "Epoch 89/100\n",
      "353/353 [==============================] - 0s 603us/step - loss: 0.0472 - MSE: 0.0472\n",
      "Epoch 90/100\n",
      "353/353 [==============================] - 0s 601us/step - loss: 0.0472 - MSE: 0.0472\n",
      "Epoch 91/100\n",
      "353/353 [==============================] - 0s 603us/step - loss: 0.0472 - MSE: 0.0472\n",
      "Epoch 92/100\n",
      "353/353 [==============================] - 0s 601us/step - loss: 0.0472 - MSE: 0.0472\n",
      "Epoch 93/100\n",
      "353/353 [==============================] - 0s 595us/step - loss: 0.0472 - MSE: 0.0472\n",
      "Epoch 94/100\n",
      "353/353 [==============================] - 0s 606us/step - loss: 0.0472 - MSE: 0.0472\n",
      "Epoch 95/100\n",
      "353/353 [==============================] - 0s 606us/step - loss: 0.0472 - MSE: 0.0472\n",
      "Epoch 96/100\n",
      "353/353 [==============================] - 0s 606us/step - loss: 0.0472 - MSE: 0.0472\n",
      "Epoch 97/100\n",
      "353/353 [==============================] - 0s 606us/step - loss: 0.0472 - MSE: 0.0472\n",
      "Epoch 98/100\n",
      "353/353 [==============================] - 0s 601us/step - loss: 0.0472 - MSE: 0.0472\n",
      "Epoch 99/100\n",
      "353/353 [==============================] - 0s 606us/step - loss: 0.0472 - MSE: 0.0472\n",
      "Epoch 100/100\n",
      "353/353 [==============================] - 0s 618us/step - loss: 0.0472 - MSE: 0.0472\n"
     ]
    },
    {
     "name": "stderr",
     "output_type": "stream",
     "text": [
      "100%|█████████████████████████████████████████████████████████████████████████| 11286/11286 [00:00<00:00, 18581.59it/s]\n"
     ]
    },
    {
     "name": "stdout",
     "output_type": "stream",
     "text": [
      "Epoch 1/100\n",
      "152/152 [==============================] - 0s 588us/step - loss: 0.3785 - MSE: 0.3785\n",
      "Epoch 2/100\n",
      "152/152 [==============================] - 0s 588us/step - loss: 0.0943 - MSE: 0.0943\n",
      "Epoch 3/100\n",
      "152/152 [==============================] - 0s 581us/step - loss: 0.0699 - MSE: 0.0699\n",
      "Epoch 4/100\n",
      "152/152 [==============================] - 0s 601us/step - loss: 0.0590 - MSE: 0.0590\n",
      "Epoch 5/100\n",
      "152/152 [==============================] - 0s 581us/step - loss: 0.0525 - MSE: 0.0525\n",
      "Epoch 6/100\n",
      "152/152 [==============================] - 0s 588us/step - loss: 0.0481 - MSE: 0.0481\n",
      "Epoch 7/100\n",
      "152/152 [==============================] - 0s 588us/step - loss: 0.0449 - MSE: 0.0449\n",
      "Epoch 8/100\n",
      "152/152 [==============================] - 0s 601us/step - loss: 0.0425 - MSE: 0.0425\n",
      "Epoch 9/100\n",
      "152/152 [==============================] - 0s 588us/step - loss: 0.0406 - MSE: 0.0406\n",
      "Epoch 10/100\n",
      "152/152 [==============================] - 0s 588us/step - loss: 0.0391 - MSE: 0.0391\n",
      "Epoch 11/100\n",
      "152/152 [==============================] - 0s 588us/step - loss: 0.0379 - MSE: 0.0379\n",
      "Epoch 12/100\n",
      "152/152 [==============================] - 0s 588us/step - loss: 0.0370 - MSE: 0.0370\n",
      "Epoch 13/100\n",
      "152/152 [==============================] - 0s 594us/step - loss: 0.0361 - MSE: 0.0361\n",
      "Epoch 14/100\n",
      "152/152 [==============================] - 0s 594us/step - loss: 0.0354 - MSE: 0.0354\n",
      "Epoch 15/100\n",
      "152/152 [==============================] - 0s 594us/step - loss: 0.0349 - MSE: 0.0349\n",
      "Epoch 16/100\n",
      "152/152 [==============================] - 0s 588us/step - loss: 0.0344 - MSE: 0.0344\n",
      "Epoch 17/100\n",
      "152/152 [==============================] - 0s 608us/step - loss: 0.0340 - MSE: 0.0340\n",
      "Epoch 18/100\n",
      "152/152 [==============================] - 0s 594us/step - loss: 0.0336 - MSE: 0.0336\n",
      "Epoch 19/100\n",
      "152/152 [==============================] - 0s 594us/step - loss: 0.0333 - MSE: 0.0333\n",
      "Epoch 20/100\n",
      "152/152 [==============================] - 0s 608us/step - loss: 0.0330 - MSE: 0.0330\n",
      "Epoch 21/100\n",
      "152/152 [==============================] - 0s 601us/step - loss: 0.0327 - MSE: 0.0327\n",
      "Epoch 22/100\n",
      "152/152 [==============================] - 0s 594us/step - loss: 0.0325 - MSE: 0.0325\n",
      "Epoch 23/100\n",
      "152/152 [==============================] - 0s 594us/step - loss: 0.0323 - MSE: 0.0323\n",
      "Epoch 24/100\n",
      "152/152 [==============================] - 0s 594us/step - loss: 0.0321 - MSE: 0.0321\n",
      "Epoch 25/100\n",
      "152/152 [==============================] - 0s 601us/step - loss: 0.0320 - MSE: 0.0320\n",
      "Epoch 26/100\n",
      "152/152 [==============================] - 0s 608us/step - loss: 0.0318 - MSE: 0.0318\n",
      "Epoch 27/100\n",
      "152/152 [==============================] - 0s 601us/step - loss: 0.0317 - MSE: 0.0317\n",
      "Epoch 28/100\n",
      "152/152 [==============================] - 0s 588us/step - loss: 0.0316 - MSE: 0.0316\n",
      "Epoch 29/100\n",
      "152/152 [==============================] - 0s 588us/step - loss: 0.0315 - MSE: 0.0315\n",
      "Epoch 30/100\n",
      "152/152 [==============================] - 0s 588us/step - loss: 0.0314 - MSE: 0.0314\n",
      "Epoch 31/100\n",
      "152/152 [==============================] - 0s 594us/step - loss: 0.0313 - MSE: 0.0313\n",
      "Epoch 32/100\n",
      "152/152 [==============================] - 0s 594us/step - loss: 0.0312 - MSE: 0.0312\n",
      "Epoch 33/100\n",
      "152/152 [==============================] - 0s 601us/step - loss: 0.0311 - MSE: 0.0311\n",
      "Epoch 34/100\n",
      "152/152 [==============================] - 0s 588us/step - loss: 0.0311 - MSE: 0.0311\n",
      "Epoch 35/100\n",
      "152/152 [==============================] - 0s 594us/step - loss: 0.0310 - MSE: 0.0310\n",
      "Epoch 36/100\n",
      "152/152 [==============================] - 0s 594us/step - loss: 0.0309 - MSE: 0.0309\n",
      "Epoch 37/100\n",
      "152/152 [==============================] - 0s 608us/step - loss: 0.0309 - MSE: 0.0309\n",
      "Epoch 38/100\n",
      "152/152 [==============================] - 0s 594us/step - loss: 0.0308 - MSE: 0.0308\n",
      "Epoch 39/100\n",
      "152/152 [==============================] - 0s 594us/step - loss: 0.0308 - MSE: 0.0308\n",
      "Epoch 40/100\n",
      "152/152 [==============================] - 0s 588us/step - loss: 0.0307 - MSE: 0.0307\n",
      "Epoch 41/100\n",
      "152/152 [==============================] - 0s 594us/step - loss: 0.0307 - MSE: 0.0307\n",
      "Epoch 42/100\n",
      "152/152 [==============================] - 0s 594us/step - loss: 0.0307 - MSE: 0.0307\n",
      "Epoch 43/100\n",
      "152/152 [==============================] - 0s 601us/step - loss: 0.0306 - MSE: 0.0306\n",
      "Epoch 44/100\n",
      "152/152 [==============================] - 0s 601us/step - loss: 0.0306 - MSE: 0.0306\n",
      "Epoch 45/100\n",
      "152/152 [==============================] - 0s 594us/step - loss: 0.0306 - MSE: 0.0306\n",
      "Epoch 46/100\n",
      "152/152 [==============================] - 0s 601us/step - loss: 0.0305 - MSE: 0.0305\n",
      "Epoch 47/100\n",
      "152/152 [==============================] - 0s 601us/step - loss: 0.0305 - MSE: 0.0305\n",
      "Epoch 48/100\n",
      "152/152 [==============================] - 0s 594us/step - loss: 0.0305 - MSE: 0.0305\n",
      "Epoch 49/100\n",
      "152/152 [==============================] - 0s 601us/step - loss: 0.0305 - MSE: 0.0305\n",
      "Epoch 50/100\n",
      "152/152 [==============================] - 0s 601us/step - loss: 0.0304 - MSE: 0.0304\n",
      "Epoch 51/100\n",
      "152/152 [==============================] - 0s 601us/step - loss: 0.0304 - MSE: 0.0304\n",
      "Epoch 52/100\n",
      "152/152 [==============================] - 0s 594us/step - loss: 0.0304 - MSE: 0.0304\n",
      "Epoch 53/100\n",
      "152/152 [==============================] - 0s 594us/step - loss: 0.0304 - MSE: 0.0304\n",
      "Epoch 54/100\n",
      "152/152 [==============================] - 0s 601us/step - loss: 0.0304 - MSE: 0.0304\n",
      "Epoch 55/100\n",
      "152/152 [==============================] - 0s 601us/step - loss: 0.0304 - MSE: 0.0304\n",
      "Epoch 56/100\n",
      "152/152 [==============================] - 0s 601us/step - loss: 0.0303 - MSE: 0.0303\n",
      "Epoch 57/100\n",
      "152/152 [==============================] - 0s 594us/step - loss: 0.0303 - MSE: 0.0303\n",
      "Epoch 58/100\n",
      "152/152 [==============================] - 0s 601us/step - loss: 0.0303 - MSE: 0.0303\n",
      "Epoch 59/100\n",
      "152/152 [==============================] - 0s 601us/step - loss: 0.0303 - MSE: 0.0303\n",
      "Epoch 60/100\n",
      "152/152 [==============================] - 0s 614us/step - loss: 0.0303 - MSE: 0.0303\n",
      "Epoch 61/100\n",
      "152/152 [==============================] - 0s 594us/step - loss: 0.0303 - MSE: 0.0303\n",
      "Epoch 62/100\n",
      "152/152 [==============================] - 0s 601us/step - loss: 0.0303 - MSE: 0.0303\n",
      "Epoch 63/100\n",
      "152/152 [==============================] - 0s 601us/step - loss: 0.0303 - MSE: 0.0303\n",
      "Epoch 64/100\n",
      "152/152 [==============================] - 0s 594us/step - loss: 0.0302 - MSE: 0.0302\n",
      "Epoch 65/100\n",
      "152/152 [==============================] - 0s 601us/step - loss: 0.0302 - MSE: 0.0302\n",
      "Epoch 66/100\n",
      "152/152 [==============================] - 0s 601us/step - loss: 0.0302 - MSE: 0.0302\n",
      "Epoch 67/100\n",
      "152/152 [==============================] - 0s 601us/step - loss: 0.0302 - MSE: 0.0302\n",
      "Epoch 68/100\n",
      "152/152 [==============================] - 0s 594us/step - loss: 0.0302 - MSE: 0.0302\n",
      "Epoch 69/100\n",
      "152/152 [==============================] - 0s 594us/step - loss: 0.0302 - MSE: 0.0302\n",
      "Epoch 70/100\n",
      "152/152 [==============================] - 0s 594us/step - loss: 0.0302 - MSE: 0.0302\n",
      "Epoch 71/100\n",
      "152/152 [==============================] - 0s 608us/step - loss: 0.0302 - MSE: 0.0302\n",
      "Epoch 72/100\n",
      "152/152 [==============================] - 0s 608us/step - loss: 0.0302 - MSE: 0.0302\n",
      "Epoch 73/100\n",
      "152/152 [==============================] - 0s 601us/step - loss: 0.0302 - MSE: 0.0302\n",
      "Epoch 74/100\n",
      "152/152 [==============================] - 0s 601us/step - loss: 0.0302 - MSE: 0.0302\n",
      "Epoch 75/100\n",
      "152/152 [==============================] - 0s 601us/step - loss: 0.0302 - MSE: 0.0302\n",
      "Epoch 76/100\n",
      "152/152 [==============================] - 0s 588us/step - loss: 0.0302 - MSE: 0.0302\n",
      "Epoch 77/100\n",
      "152/152 [==============================] - 0s 608us/step - loss: 0.0302 - MSE: 0.0302\n",
      "Epoch 78/100\n",
      "152/152 [==============================] - 0s 601us/step - loss: 0.0302 - MSE: 0.0302\n",
      "Epoch 79/100\n",
      "152/152 [==============================] - 0s 608us/step - loss: 0.0302 - MSE: 0.0302\n",
      "Epoch 80/100\n",
      "152/152 [==============================] - 0s 601us/step - loss: 0.0301 - MSE: 0.0301\n",
      "Epoch 81/100\n",
      "152/152 [==============================] - 0s 634us/step - loss: 0.0301 - MSE: 0.0301\n",
      "Epoch 82/100\n",
      "152/152 [==============================] - 0s 601us/step - loss: 0.0301 - MSE: 0.0301\n",
      "Epoch 83/100\n"
     ]
    },
    {
     "name": "stdout",
     "output_type": "stream",
     "text": [
      "152/152 [==============================] - 0s 601us/step - loss: 0.0301 - MSE: 0.0301\n",
      "Epoch 84/100\n",
      "152/152 [==============================] - 0s 594us/step - loss: 0.0301 - MSE: 0.0301\n",
      "Epoch 85/100\n",
      "152/152 [==============================] - 0s 594us/step - loss: 0.0301 - MSE: 0.0301\n",
      "Epoch 86/100\n",
      "152/152 [==============================] - 0s 608us/step - loss: 0.0301 - MSE: 0.0301\n",
      "Epoch 87/100\n",
      "152/152 [==============================] - 0s 601us/step - loss: 0.0301 - MSE: 0.0301\n",
      "Epoch 88/100\n",
      "152/152 [==============================] - 0s 601us/step - loss: 0.0301 - MSE: 0.0301\n",
      "Epoch 89/100\n",
      "152/152 [==============================] - 0s 601us/step - loss: 0.0301 - MSE: 0.0301\n",
      "Epoch 90/100\n",
      "152/152 [==============================] - 0s 594us/step - loss: 0.0301 - MSE: 0.0301\n",
      "Epoch 91/100\n",
      "152/152 [==============================] - 0s 601us/step - loss: 0.0301 - MSE: 0.0301\n",
      "Epoch 92/100\n",
      "152/152 [==============================] - 0s 608us/step - loss: 0.0301 - MSE: 0.0301\n",
      "Epoch 93/100\n",
      "152/152 [==============================] - 0s 601us/step - loss: 0.0301 - MSE: 0.0301\n",
      "Epoch 94/100\n",
      "152/152 [==============================] - 0s 601us/step - loss: 0.0301 - MSE: 0.0301\n",
      "Epoch 95/100\n",
      "152/152 [==============================] - 0s 601us/step - loss: 0.0301 - MSE: 0.0301\n",
      "Epoch 96/100\n",
      "152/152 [==============================] - 0s 601us/step - loss: 0.0301 - MSE: 0.0301\n",
      "Epoch 97/100\n",
      "152/152 [==============================] - 0s 608us/step - loss: 0.0301 - MSE: 0.0301\n",
      "Epoch 98/100\n",
      "152/152 [==============================] - 0s 608us/step - loss: 0.0301 - MSE: 0.0301\n",
      "Epoch 99/100\n",
      "152/152 [==============================] - 0s 601us/step - loss: 0.0301 - MSE: 0.0301\n",
      "Epoch 100/100\n",
      "152/152 [==============================] - 0s 608us/step - loss: 0.0301 - MSE: 0.0301\n"
     ]
    },
    {
     "name": "stderr",
     "output_type": "stream",
     "text": [
      "100%|███████████████████████████████████████████████████████████████████████████| 4838/4838 [00:00<00:00, 18657.38it/s]\n"
     ]
    }
   ],
   "source": [
    "with tf.device(\"/device:CPU:0\"):\n",
    "    x_train = weighted_sum(x_te_train,x_img_train,norm_te_train,norm_img_train)\n",
    "    x_test = weighted_sum(x_te_test,x_img_test,norm_te_test,norm_img_test)"
   ]
  },
  {
   "cell_type": "markdown",
   "id": "f9b89d61",
   "metadata": {},
   "source": [
    "# Visualization after combining"
   ]
  },
  {
   "cell_type": "code",
   "execution_count": 18,
   "id": "3c4b4b48",
   "metadata": {
    "scrolled": true
   },
   "outputs": [
    {
     "data": {
      "text/plain": [
       "<AxesSubplot:ylabel='Density'>"
      ]
     },
     "execution_count": 18,
     "metadata": {},
     "output_type": "execute_result"
    },
    {
     "data": {
      "image/png": "[encoded data removed]",
      "text/plain": [
       "<Figure size 432x288 with 1 Axes>"
      ]
     },
     "metadata": {
      "needs_background": "light"
     },
     "output_type": "display_data"
    }
   ],
   "source": [
    "cv1 = te.mean()\n",
    "cv2 = images.mean()\n",
    "cv3 = x_train.mean()\n",
    "sns.kdeplot(cv1)\n",
    "sns.kdeplot(cv2)\n",
    "sns.kdeplot(cv3)"
   ]
  },
  {
   "cell_type": "code",
   "execution_count": 19,
   "id": "d7c4cab4",
   "metadata": {},
   "outputs": [],
   "source": [
    "te['img=1']=0\n",
    "images['img=1']=1\n",
    "x_train['img=1']=2"
   ]
  },
  {
   "cell_type": "code",
   "execution_count": 20,
   "id": "5d6ad5a7",
   "metadata": {},
   "outputs": [],
   "source": [
    "con = pd.concat([te,images,x_train],axis=0)\n",
    "con.reset_index(drop=True,inplace=True)\n",
    "x = con.drop(['img=1'],axis=1)\n",
    "y = con['img=1'].values"
   ]
  },
  {
   "cell_type": "code",
   "execution_count": 21,
   "id": "f2668e5e",
   "metadata": {},
   "outputs": [
    {
     "name": "stderr",
     "output_type": "stream",
     "text": [
      "C:\\ProgramData\\Anaconda3\\lib\\site-packages\\matplotlib\\collections.py:1003: RuntimeWarning: invalid value encountered in sqrt\n",
      "  scale = np.sqrt(self._sizes) * dpi / 72.0 * self._factor\n"
     ]
    },
    {
     "data": {
      "image/png": "[encoded data removed]",
      "text/plain": [
       "<Figure size 432x288 with 1 Axes>"
      ]
     },
     "metadata": {
      "needs_background": "light"
     },
     "output_type": "display_data"
    }
   ],
   "source": [
    "# 가중치 적용 후 분포 poly\n",
    "pca = PCA(n_components=3)\n",
    "X = pca.fit_transform(x)\n",
    "plot_3d_space(X, y, 'distribution')"
   ]
  },
  {
   "cell_type": "code",
   "execution_count": 22,
   "id": "b289e448",
   "metadata": {},
   "outputs": [
    {
     "name": "stderr",
     "output_type": "stream",
     "text": [
      "C:\\Users\\user\\AppData\\Roaming\\Python\\Python39\\site-packages\\sklearn\\manifold\\_t_sne.py:800: FutureWarning: The default initialization in TSNE will change from 'random' to 'pca' in 1.2.\n",
      "  warnings.warn(\n",
      "C:\\Users\\user\\AppData\\Roaming\\Python\\Python39\\site-packages\\sklearn\\manifold\\_t_sne.py:810: FutureWarning: The default learning rate in TSNE will change from 200.0 to 'auto' in 1.2.\n",
      "  warnings.warn(\n"
     ]
    }
   ],
   "source": [
    "from sklearn.manifold import TSNE\n",
    "# 축소한 차원의 수를 정합니다.\n",
    "n_components = 2\n",
    "# TSNE 모델의 인스턴스를 만듭니다.\n",
    "model = TSNE(n_components=n_components)\n",
    "# 2차원 t-SNE 임베딩\n",
    "tsne_np = TSNE(n_components = 2).fit_transform(x)\n",
    "\n",
    "# numpy array -> DataFrame 변환\n",
    "tsne_df = pd.DataFrame(tsne_np, columns = ['component 0', 'component 1'])"
   ]
  },
  {
   "cell_type": "code",
   "execution_count": 23,
   "id": "511441b7",
   "metadata": {},
   "outputs": [
    {
     "data": {
      "image/png": "[encoded data removed]",
      "text/plain": [
       "<Figure size 432x288 with 1 Axes>"
      ]
     },
     "metadata": {
      "needs_background": "light"
     },
     "output_type": "display_data"
    }
   ],
   "source": [
    "# class target 정보 불러오기 \n",
    "tsne_df['target'] = con['img=1']\n",
    "\n",
    "# target 별 분리\n",
    "tsne_df_0 = tsne_df[tsne_df['target'] == 0]\n",
    "tsne_df_1 = tsne_df[tsne_df['target'] == 1]\n",
    "tsne_df_2 = tsne_df[tsne_df['target'] == 2]\n",
    "\n",
    "# target 별 시각화\n",
    "plt.scatter(tsne_df_0['component 0'], tsne_df_0['component 1'], color = 'pink', label = 'Text')\n",
    "plt.scatter(tsne_df_1['component 0'], tsne_df_1['component 1'], color = 'purple', label = 'Image')\n",
    "plt.scatter(tsne_df_2['component 0'], tsne_df_2['component 1'], color = 'yellow', label = 'Linear_combined')\n",
    "\n",
    "plt.xlabel('component 0')\n",
    "plt.ylabel('component 1')\n",
    "plt.title('Data Distribution')\n",
    "plt.legend()\n",
    "plt.show()"
   ]
  },
  {
   "cell_type": "code",
   "execution_count": 24,
   "id": "3e99bb08",
   "metadata": {},
   "outputs": [],
   "source": [
    "te.drop(['img=1'],axis=1,inplace=True)\n",
    "\n",
    "images.drop(['img=1'],axis=1,inplace=True)\n",
    "x_train.drop(['img=1'],axis=1,inplace=True)"
   ]
  },
  {
   "cell_type": "markdown",
   "id": "cf6a4625",
   "metadata": {},
   "source": [
    "# Run!"
   ]
  },
  {
   "cell_type": "code",
   "execution_count": 25,
   "id": "7360e195",
   "metadata": {
    "scrolled": true
   },
   "outputs": [
    {
     "name": "stdout",
     "output_type": "stream",
     "text": [
      "Epoch 1/50\n",
      "353/353 [==============================] - 0s 603us/step - loss: 0.6515 - accuracy: 0.6180\n",
      "Epoch 2/50\n",
      "353/353 [==============================] - 0s 612us/step - loss: 0.5863 - accuracy: 0.6878\n",
      "Epoch 3/50\n",
      "353/353 [==============================] - 0s 612us/step - loss: 0.5613 - accuracy: 0.7093\n",
      "Epoch 4/50\n",
      "353/353 [==============================] - 0s 609us/step - loss: 0.5564 - accuracy: 0.7142\n",
      "Epoch 5/50\n",
      "353/353 [==============================] - 0s 606us/step - loss: 0.5532 - accuracy: 0.7166\n",
      "Epoch 6/50\n",
      "353/353 [==============================] - 0s 601us/step - loss: 0.5531 - accuracy: 0.7150\n",
      "Epoch 7/50\n",
      "353/353 [==============================] - 0s 601us/step - loss: 0.5524 - accuracy: 0.7168\n",
      "Epoch 8/50\n",
      "353/353 [==============================] - 0s 609us/step - loss: 0.5512 - accuracy: 0.7185\n",
      "Epoch 9/50\n",
      "353/353 [==============================] - 0s 632us/step - loss: 0.5502 - accuracy: 0.7182\n",
      "Epoch 10/50\n",
      "353/353 [==============================] - 0s 623us/step - loss: 0.5494 - accuracy: 0.7199\n",
      "Epoch 11/50\n",
      "353/353 [==============================] - 0s 629us/step - loss: 0.5480 - accuracy: 0.7204\n",
      "Epoch 12/50\n",
      "353/353 [==============================] - 0s 603us/step - loss: 0.5464 - accuracy: 0.7193\n",
      "Epoch 13/50\n",
      "353/353 [==============================] - 0s 618us/step - loss: 0.5457 - accuracy: 0.7187\n",
      "Epoch 14/50\n",
      "353/353 [==============================] - 0s 592us/step - loss: 0.5430 - accuracy: 0.7228\n",
      "Epoch 15/50\n",
      "353/353 [==============================] - 0s 595us/step - loss: 0.5414 - accuracy: 0.7255\n",
      "Epoch 16/50\n",
      "353/353 [==============================] - 0s 601us/step - loss: 0.5398 - accuracy: 0.7236\n",
      "Epoch 17/50\n",
      "353/353 [==============================] - 0s 603us/step - loss: 0.5379 - accuracy: 0.7259\n",
      "Epoch 18/50\n",
      "353/353 [==============================] - 0s 615us/step - loss: 0.5366 - accuracy: 0.7320\n",
      "Epoch 19/50\n",
      "353/353 [==============================] - 0s 601us/step - loss: 0.5331 - accuracy: 0.7307\n",
      "Epoch 20/50\n",
      "353/353 [==============================] - 0s 601us/step - loss: 0.5308 - accuracy: 0.7291\n",
      "Epoch 21/50\n",
      "353/353 [==============================] - 0s 604us/step - loss: 0.5285 - accuracy: 0.7356\n",
      "Epoch 22/50\n",
      "353/353 [==============================] - 0s 606us/step - loss: 0.5270 - accuracy: 0.7345\n",
      "Epoch 23/50\n",
      "353/353 [==============================] - 0s 606us/step - loss: 0.5252 - accuracy: 0.7389\n",
      "Epoch 24/50\n",
      "353/353 [==============================] - 0s 606us/step - loss: 0.5227 - accuracy: 0.7383\n",
      "Epoch 25/50\n",
      "353/353 [==============================] - 0s 601us/step - loss: 0.5206 - accuracy: 0.7415\n",
      "Epoch 26/50\n",
      "353/353 [==============================] - 0s 598us/step - loss: 0.5197 - accuracy: 0.7435\n",
      "Epoch 27/50\n",
      "353/353 [==============================] - 0s 618us/step - loss: 0.5157 - accuracy: 0.7453\n",
      "Epoch 28/50\n",
      "353/353 [==============================] - 0s 598us/step - loss: 0.5145 - accuracy: 0.7472\n",
      "Epoch 29/50\n",
      "353/353 [==============================] - 0s 598us/step - loss: 0.5122 - accuracy: 0.7497\n",
      "Epoch 30/50\n",
      "353/353 [==============================] - 0s 601us/step - loss: 0.5113 - accuracy: 0.7492\n",
      "Epoch 31/50\n",
      "353/353 [==============================] - 0s 601us/step - loss: 0.5083 - accuracy: 0.7509\n",
      "Epoch 32/50\n",
      "353/353 [==============================] - 0s 606us/step - loss: 0.5055 - accuracy: 0.7552\n",
      "Epoch 33/50\n",
      "353/353 [==============================] - 0s 598us/step - loss: 0.5049 - accuracy: 0.7538\n",
      "Epoch 34/50\n",
      "353/353 [==============================] - 0s 603us/step - loss: 0.5035 - accuracy: 0.7582\n",
      "Epoch 35/50\n",
      "353/353 [==============================] - 0s 598us/step - loss: 0.5010 - accuracy: 0.7549\n",
      "Epoch 36/50\n",
      "353/353 [==============================] - 0s 598us/step - loss: 0.4991 - accuracy: 0.7608\n",
      "Epoch 37/50\n",
      "353/353 [==============================] - 0s 603us/step - loss: 0.4971 - accuracy: 0.7593\n",
      "Epoch 38/50\n",
      "353/353 [==============================] - 0s 598us/step - loss: 0.4956 - accuracy: 0.7617\n",
      "Epoch 39/50\n",
      "353/353 [==============================] - 0s 606us/step - loss: 0.4942 - accuracy: 0.7614\n",
      "Epoch 40/50\n",
      "353/353 [==============================] - 0s 620us/step - loss: 0.4924 - accuracy: 0.7637\n",
      "Epoch 41/50\n",
      "353/353 [==============================] - 0s 623us/step - loss: 0.4916 - accuracy: 0.7654\n",
      "Epoch 42/50\n",
      "353/353 [==============================] - 0s 615us/step - loss: 0.4903 - accuracy: 0.7671\n",
      "Epoch 43/50\n",
      "353/353 [==============================] - 0s 606us/step - loss: 0.4883 - accuracy: 0.7655\n",
      "Epoch 44/50\n",
      "353/353 [==============================] - 0s 612us/step - loss: 0.4846 - accuracy: 0.7695\n",
      "Epoch 45/50\n",
      "353/353 [==============================] - 0s 615us/step - loss: 0.4839 - accuracy: 0.7678\n",
      "Epoch 46/50\n",
      "353/353 [==============================] - 0s 620us/step - loss: 0.4813 - accuracy: 0.7718\n",
      "Epoch 47/50\n",
      "353/353 [==============================] - 0s 626us/step - loss: 0.4784 - accuracy: 0.7738\n",
      "Epoch 48/50\n",
      "353/353 [==============================] - 0s 621us/step - loss: 0.4774 - accuracy: 0.7744\n",
      "Epoch 49/50\n",
      "353/353 [==============================] - 0s 615us/step - loss: 0.4745 - accuracy: 0.7776\n",
      "Epoch 50/50\n",
      "353/353 [==============================] - 0s 620us/step - loss: 0.4745 - accuracy: 0.7773\n",
      "152/152 [==============================] - 0s 443us/step - loss: 0.5133 - accuracy: 0.7489\n",
      "\n",
      " Accuracy: 0.7489\n"
     ]
    }
   ],
   "source": [
    "with tf.device(\"/device:CPU:0\"):\n",
    "    # 모델의 설정\n",
    "    model = Sequential()\n",
    "    model.add(Dense(512,  input_dim=100 , activation='relu'))\n",
    "    model.add(Dense(1, activation='sigmoid'))\n",
    "    \n",
    "    # 모델 컴파일\n",
    "    model.compile(loss='binary_crossentropy',\n",
    "                optimizer='adam',\n",
    "                metrics=['accuracy'])\n",
    "    \n",
    "    # 모델 실행\n",
    "    model.fit(x_train, y_train, epochs=50, batch_size=32)\n",
    "    \n",
    "    # 결과 출력\n",
    "    print(\"\\n Accuracy: %.4f\" % (model.evaluate(x_test, y_test)[1]))"
   ]
  },
  {
   "cell_type": "code",
   "execution_count": 26,
   "id": "d3e7a04e",
   "metadata": {},
   "outputs": [],
   "source": [
    "with tf.device(\"/device:CPU:0\"):\n",
    "    y_pred = model.predict(x_test)\n",
    "    \n",
    "    predic =[]\n",
    "    for i in range(len(y_pred)):\n",
    "        if y_pred[i]<0.5:\n",
    "            predic.append(0)\n",
    "        else:\n",
    "            predic.append(1)"
   ]
  },
  {
   "cell_type": "code",
   "execution_count": 27,
   "id": "f74a174b",
   "metadata": {},
   "outputs": [
    {
     "name": "stdout",
     "output_type": "stream",
     "text": [
      "0.5771065182829889\n",
      "0.7488631665977676\n",
      "0.6419098143236075\n",
      "0.7178992435535583\n",
      "0.7231075697211156\n"
     ]
    }
   ],
   "source": [
    "print(recall_score(y_test, predic))\n",
    "print(accuracy_score(y_test,predic)) \n",
    "print(f1_score(y_test,predic))       \n",
    "print(roc_auc_score(y_test,predic))\n",
    "print(precision_score(y_test,predic))"
   ]
  },
  {
   "cell_type": "markdown",
   "id": "77b55670",
   "metadata": {},
   "source": [
    "# DNN based approach"
   ]
  },
  {
   "cell_type": "code",
   "execution_count": 30,
   "id": "ead630f5",
   "metadata": {},
   "outputs": [],
   "source": [
    "label = pd.read_csv('label.csv')\n",
    "\n",
    "Y= label['2_way_label']\n",
    "le = preprocessing.LabelEncoder()\n",
    "le.fit(Y.values) #Y변수 Label Encoding해주기\n",
    "\n",
    "y = le.transform(Y.values)"
   ]
  },
  {
   "cell_type": "code",
   "execution_count": 31,
   "id": "359d16ef",
   "metadata": {},
   "outputs": [],
   "source": [
    "te_x_train,te_test,y_train,y_test = train_test_split(te,y,test_size=0.3,random_state=2022,stratify=y)\n",
    "\n",
    "img_x_train,img_test,y_train,y_test = train_test_split(images,y,test_size=0.3,random_state=2022,stratify=y)\n",
    "\n",
    "#x_train = np.stack((te_x_train, img_x_train), axis=0)"
   ]
  },
  {
   "cell_type": "code",
   "execution_count": 32,
   "id": "9f58e4af",
   "metadata": {
    "scrolled": true
   },
   "outputs": [
    {
     "name": "stdout",
     "output_type": "stream",
     "text": [
      "Epoch 1/50\n",
      "353/353 [==============================] - 0s 569us/step - loss: 0.5933 - accuracy: 0.6941\n",
      "Epoch 2/50\n",
      "353/353 [==============================] - 0s 575us/step - loss: 0.5416 - accuracy: 0.7243\n",
      "Epoch 3/50\n",
      "353/353 [==============================] - 0s 575us/step - loss: 0.5192 - accuracy: 0.7447\n",
      "Epoch 4/50\n",
      "353/353 [==============================] - 0s 586us/step - loss: 0.4977 - accuracy: 0.7593\n",
      "Epoch 5/50\n",
      "353/353 [==============================] - 0s 575us/step - loss: 0.4741 - accuracy: 0.7771\n",
      "Epoch 6/50\n",
      "353/353 [==============================] - 0s 598us/step - loss: 0.4525 - accuracy: 0.7920\n",
      "Epoch 7/50\n",
      "353/353 [==============================] - 0s 578us/step - loss: 0.4342 - accuracy: 0.7998\n",
      "Epoch 8/50\n",
      "353/353 [==============================] - 0s 649us/step - loss: 0.4149 - accuracy: 0.8145\n",
      "Epoch 9/50\n",
      "353/353 [==============================] - 0s 586us/step - loss: 0.3963 - accuracy: 0.8245\n",
      "Epoch 10/50\n",
      "353/353 [==============================] - 0s 584us/step - loss: 0.3851 - accuracy: 0.8310\n",
      "Epoch 11/50\n",
      "353/353 [==============================] - 0s 592us/step - loss: 0.3675 - accuracy: 0.8423\n",
      "Epoch 12/50\n",
      "353/353 [==============================] - 0s 575us/step - loss: 0.3561 - accuracy: 0.8469\n",
      "Epoch 13/50\n",
      "353/353 [==============================] - 0s 581us/step - loss: 0.3452 - accuracy: 0.8510\n",
      "Epoch 14/50\n",
      "353/353 [==============================] - 0s 575us/step - loss: 0.3314 - accuracy: 0.8612\n",
      "Epoch 15/50\n",
      "353/353 [==============================] - 0s 581us/step - loss: 0.3211 - accuracy: 0.8658\n",
      "Epoch 16/50\n",
      "353/353 [==============================] - 0s 581us/step - loss: 0.3117 - accuracy: 0.8691\n",
      "Epoch 17/50\n",
      "353/353 [==============================] - 0s 589us/step - loss: 0.3018 - accuracy: 0.8768\n",
      "Epoch 18/50\n",
      "353/353 [==============================] - 0s 564us/step - loss: 0.2919 - accuracy: 0.8806\n",
      "Epoch 19/50\n",
      "353/353 [==============================] - 0s 578us/step - loss: 0.2833 - accuracy: 0.8864\n",
      "Epoch 20/50\n",
      "353/353 [==============================] - 0s 569us/step - loss: 0.2731 - accuracy: 0.8919\n",
      "Epoch 21/50\n",
      "353/353 [==============================] - 0s 598us/step - loss: 0.2657 - accuracy: 0.8973\n",
      "Epoch 22/50\n",
      "353/353 [==============================] - 0s 620us/step - loss: 0.2575 - accuracy: 0.9030\n",
      "Epoch 23/50\n",
      "353/353 [==============================] - 0s 592us/step - loss: 0.2516 - accuracy: 0.9044\n",
      "Epoch 24/50\n",
      "353/353 [==============================] - 0s 572us/step - loss: 0.2441 - accuracy: 0.9079\n",
      "Epoch 25/50\n",
      "353/353 [==============================] - 0s 567us/step - loss: 0.2356 - accuracy: 0.9136\n",
      "Epoch 26/50\n",
      "353/353 [==============================] - 0s 572us/step - loss: 0.2293 - accuracy: 0.9172\n",
      "Epoch 27/50\n",
      "353/353 [==============================] - 0s 575us/step - loss: 0.2226 - accuracy: 0.9187\n",
      "Epoch 28/50\n",
      "353/353 [==============================] - 0s 581us/step - loss: 0.2174 - accuracy: 0.9210\n",
      "Epoch 29/50\n",
      "353/353 [==============================] - 0s 561us/step - loss: 0.2094 - accuracy: 0.9246\n",
      "Epoch 30/50\n",
      "353/353 [==============================] - 0s 575us/step - loss: 0.2038 - accuracy: 0.9274\n",
      "Epoch 31/50\n",
      "353/353 [==============================] - 0s 575us/step - loss: 0.1985 - accuracy: 0.9316\n",
      "Epoch 32/50\n",
      "353/353 [==============================] - 0s 575us/step - loss: 0.1952 - accuracy: 0.9311\n",
      "Epoch 33/50\n",
      "353/353 [==============================] - 0s 575us/step - loss: 0.1866 - accuracy: 0.9366\n",
      "Epoch 34/50\n",
      "353/353 [==============================] - 0s 575us/step - loss: 0.1850 - accuracy: 0.9363\n",
      "Epoch 35/50\n",
      "353/353 [==============================] - 0s 572us/step - loss: 0.1785 - accuracy: 0.9401\n",
      "Epoch 36/50\n",
      "353/353 [==============================] - 0s 564us/step - loss: 0.1722 - accuracy: 0.9425\n",
      "Epoch 37/50\n",
      "353/353 [==============================] - 0s 584us/step - loss: 0.1694 - accuracy: 0.9436\n",
      "Epoch 38/50\n",
      "353/353 [==============================] - 0s 579us/step - loss: 0.1652 - accuracy: 0.9453\n",
      "Epoch 39/50\n",
      "353/353 [==============================] - 0s 569us/step - loss: 0.1582 - accuracy: 0.9496\n",
      "Epoch 40/50\n",
      "353/353 [==============================] - 0s 572us/step - loss: 0.1543 - accuracy: 0.9512\n",
      "Epoch 41/50\n",
      "353/353 [==============================] - 0s 561us/step - loss: 0.1493 - accuracy: 0.9530\n",
      "Epoch 42/50\n",
      "353/353 [==============================] - 0s 564us/step - loss: 0.1453 - accuracy: 0.9552\n",
      "Epoch 43/50\n",
      "353/353 [==============================] - 0s 584us/step - loss: 0.1445 - accuracy: 0.9557\n",
      "Epoch 44/50\n",
      "353/353 [==============================] - 0s 567us/step - loss: 0.1393 - accuracy: 0.9567\n",
      "Epoch 45/50\n",
      "353/353 [==============================] - 0s 567us/step - loss: 0.1362 - accuracy: 0.9565\n",
      "Epoch 46/50\n",
      "353/353 [==============================] - 0s 575us/step - loss: 0.1326 - accuracy: 0.9592\n",
      "Epoch 47/50\n",
      "353/353 [==============================] - 0s 564us/step - loss: 0.1279 - accuracy: 0.9636\n",
      "Epoch 48/50\n",
      "353/353 [==============================] - 0s 564us/step - loss: 0.1252 - accuracy: 0.9613\n",
      "Epoch 49/50\n",
      "353/353 [==============================] - 0s 584us/step - loss: 0.1205 - accuracy: 0.9649\n",
      "Epoch 50/50\n",
      "353/353 [==============================] - 0s 586us/step - loss: 0.1199 - accuracy: 0.9647\n"
     ]
    }
   ],
   "source": [
    "with tf.device(\"/device:CPU:0\"):\n",
    "    \n",
    "    # MLP\n",
    "    inputs_te= Input(shape=(te_x_train.shape[1],))\n",
    "    inputs_img= Input(shape=(img_x_train.shape[1],))\n",
    "    \n",
    "    text_layer = Dense(te_x_train.shape[1], activation='relu')(inputs_te)\n",
    "    img_layer = Dense(img_x_train.shape[1], activation='relu')(inputs_img)\n",
    "    concat = concatenate([text_layer, img_layer])\n",
    "    #hidden1 = Dense(100, activation='relu')(concat)\n",
    "    #hidden2 = Dense(100, activation='relu')(hidden1)\n",
    "    out = Dense(1, activation='sigmoid')(concat)\n",
    "    model = Model(inputs=[inputs_te,inputs_img], outputs=out)\n",
    "    \n",
    "    # 모델 컴파일\n",
    "    model.compile(loss='binary_crossentropy',\n",
    "                optimizer='adam',\n",
    "                metrics=['accuracy'])\n",
    "    \n",
    "    # 모델 실행\n",
    "    model.fit([te_x_train,img_x_train], y_train, epochs=50, batch_size=32)\n",
    "    \n",
    "    # 결과 출력\n",
    "    #print(\"\\n Accuracy: %.4f\" % (model.evaluate((te_test.values,img_test.values), y_test)))"
   ]
  },
  {
   "cell_type": "code",
   "execution_count": 33,
   "id": "c4279812",
   "metadata": {},
   "outputs": [],
   "source": [
    "with tf.device(\"/device:CPU:0\"):\n",
    "    predic =[]\n",
    "    y_pred = model.predict((te_test.values,img_test.values))\n",
    "    \n",
    "    for i in range(len(y_pred)):\n",
    "        if y_pred[i]<0.5:\n",
    "            predic.append(0)\n",
    "        else:\n",
    "            predic.append(1)"
   ]
  },
  {
   "cell_type": "code",
   "execution_count": 34,
   "id": "cd31849d",
   "metadata": {},
   "outputs": [
    {
     "name": "stdout",
     "output_type": "stream",
     "text": [
      "0.6020137784843668\n",
      "0.7102108309218685\n",
      "0.618399564507349\n",
      "0.6907052965617361\n",
      "0.6357022943480694\n"
     ]
    }
   ],
   "source": [
    "print(recall_score(y_test, predic))\n",
    "print(accuracy_score(y_test,predic)) \n",
    "print(f1_score(y_test,predic))       \n",
    "print(roc_auc_score(y_test,predic))\n",
    "print(precision_score(y_test,predic))"
   ]
  },
  {
   "cell_type": "markdown",
   "id": "0663bb50",
   "metadata": {},
   "source": [
    "# Text only"
   ]
  },
  {
   "cell_type": "code",
   "execution_count": 37,
   "id": "ddd99c15",
   "metadata": {},
   "outputs": [],
   "source": [
    "le = preprocessing.LabelEncoder()\n",
    "le.fit(Y.values) #Y변수 Label Encoding해주기\n",
    "\n",
    "y = le.transform(Y.values)\n",
    "x_train,x_test,y_train,y_test = train_test_split(te,y,test_size=0.3,random_state=2022,stratify=y)"
   ]
  },
  {
   "cell_type": "code",
   "execution_count": 38,
   "id": "602fcc84",
   "metadata": {
    "scrolled": true
   },
   "outputs": [
    {
     "name": "stdout",
     "output_type": "stream",
     "text": [
      "Epoch 1/50\n",
      "353/353 [==============================] - 0s 572us/step - loss: 0.5941 - accuracy: 0.7033\n",
      "Epoch 2/50\n",
      "353/353 [==============================] - 0s 572us/step - loss: 0.5142 - accuracy: 0.7520\n",
      "Epoch 3/50\n",
      "353/353 [==============================] - 0s 572us/step - loss: 0.4646 - accuracy: 0.7810\n",
      "Epoch 4/50\n",
      "353/353 [==============================] - 0s 612us/step - loss: 0.4294 - accuracy: 0.8053\n",
      "Epoch 5/50\n",
      "353/353 [==============================] - 0s 615us/step - loss: 0.3943 - accuracy: 0.8279\n",
      "Epoch 6/50\n",
      "353/353 [==============================] - 0s 569us/step - loss: 0.3619 - accuracy: 0.8440\n",
      "Epoch 7/50\n",
      "353/353 [==============================] - 0s 569us/step - loss: 0.3310 - accuracy: 0.8638\n",
      "Epoch 8/50\n",
      "353/353 [==============================] - 0s 569us/step - loss: 0.3058 - accuracy: 0.8777\n",
      "Epoch 9/50\n",
      "353/353 [==============================] - 0s 592us/step - loss: 0.2799 - accuracy: 0.8925\n",
      "Epoch 10/50\n",
      "353/353 [==============================] - 0s 618us/step - loss: 0.2569 - accuracy: 0.9033\n",
      "Epoch 11/50\n",
      "353/353 [==============================] - 0s 592us/step - loss: 0.2341 - accuracy: 0.9157\n",
      "Epoch 12/50\n",
      "353/353 [==============================] - 0s 569us/step - loss: 0.2136 - accuracy: 0.9257\n",
      "Epoch 13/50\n",
      "353/353 [==============================] - 0s 575us/step - loss: 0.1987 - accuracy: 0.9306\n",
      "Epoch 14/50\n",
      "353/353 [==============================] - 0s 570us/step - loss: 0.1799 - accuracy: 0.9390\n",
      "Epoch 15/50\n",
      "353/353 [==============================] - 0s 570us/step - loss: 0.1632 - accuracy: 0.9471\n",
      "Epoch 16/50\n",
      "353/353 [==============================] - 0s 569us/step - loss: 0.1534 - accuracy: 0.9518\n",
      "Epoch 17/50\n",
      "353/353 [==============================] - 0s 564us/step - loss: 0.1393 - accuracy: 0.9593\n",
      "Epoch 18/50\n",
      "353/353 [==============================] - 0s 564us/step - loss: 0.1270 - accuracy: 0.9624\n",
      "Epoch 19/50\n",
      "353/353 [==============================] - 0s 569us/step - loss: 0.1155 - accuracy: 0.9685\n",
      "Epoch 20/50\n",
      "353/353 [==============================] - 0s 570us/step - loss: 0.1034 - accuracy: 0.9731\n",
      "Epoch 21/50\n",
      "353/353 [==============================] - 0s 575us/step - loss: 0.0986 - accuracy: 0.9727\n",
      "Epoch 22/50\n",
      "353/353 [==============================] - 0s 572us/step - loss: 0.0949 - accuracy: 0.9746\n",
      "Epoch 23/50\n",
      "353/353 [==============================] - 0s 572us/step - loss: 0.0875 - accuracy: 0.9783\n",
      "Epoch 24/50\n",
      "353/353 [==============================] - 0s 567us/step - loss: 0.0794 - accuracy: 0.9800\n",
      "Epoch 25/50\n",
      "353/353 [==============================] - 0s 569us/step - loss: 0.0733 - accuracy: 0.9826\n",
      "Epoch 26/50\n",
      "353/353 [==============================] - 0s 572us/step - loss: 0.0715 - accuracy: 0.9824\n",
      "Epoch 27/50\n",
      "353/353 [==============================] - 0s 569us/step - loss: 0.0634 - accuracy: 0.9860\n",
      "Epoch 28/50\n",
      "353/353 [==============================] - 0s 567us/step - loss: 0.0561 - accuracy: 0.9887\n",
      "Epoch 29/50\n",
      "353/353 [==============================] - 0s 575us/step - loss: 0.0564 - accuracy: 0.9883\n",
      "Epoch 30/50\n",
      "353/353 [==============================] - 0s 575us/step - loss: 0.0569 - accuracy: 0.9868\n",
      "Epoch 31/50\n",
      "353/353 [==============================] - 0s 572us/step - loss: 0.0834 - accuracy: 0.9746\n",
      "Epoch 32/50\n",
      "353/353 [==============================] - 0s 569us/step - loss: 0.0488 - accuracy: 0.9898\n",
      "Epoch 33/50\n",
      "353/353 [==============================] - 0s 569us/step - loss: 0.0403 - accuracy: 0.9922\n",
      "Epoch 34/50\n",
      "353/353 [==============================] - 0s 581us/step - loss: 0.0362 - accuracy: 0.9929\n",
      "Epoch 35/50\n",
      "353/353 [==============================] - 0s 592us/step - loss: 0.0353 - accuracy: 0.9937\n",
      "Epoch 36/50\n",
      "353/353 [==============================] - 0s 595us/step - loss: 0.0319 - accuracy: 0.9940\n",
      "Epoch 37/50\n",
      "353/353 [==============================] - 0s 592us/step - loss: 0.0425 - accuracy: 0.9894\n",
      "Epoch 38/50\n",
      "353/353 [==============================] - 0s 592us/step - loss: 0.1129 - accuracy: 0.9631\n",
      "Epoch 39/50\n",
      "353/353 [==============================] - 0s 592us/step - loss: 0.0584 - accuracy: 0.9838\n",
      "Epoch 40/50\n",
      "353/353 [==============================] - 0s 592us/step - loss: 0.0359 - accuracy: 0.9927\n",
      "Epoch 41/50\n",
      "353/353 [==============================] - 0s 598us/step - loss: 0.0293 - accuracy: 0.9946\n",
      "Epoch 42/50\n",
      "353/353 [==============================] - 0s 586us/step - loss: 0.0269 - accuracy: 0.9950\n",
      "Epoch 43/50\n",
      "353/353 [==============================] - 0s 589us/step - loss: 0.0253 - accuracy: 0.9951\n",
      "Epoch 44/50\n",
      "353/353 [==============================] - 0s 586us/step - loss: 0.0244 - accuracy: 0.9955\n",
      "Epoch 45/50\n",
      "353/353 [==============================] - 0s 592us/step - loss: 0.0243 - accuracy: 0.9954\n",
      "Epoch 46/50\n",
      "353/353 [==============================] - 0s 589us/step - loss: 0.0227 - accuracy: 0.9951\n",
      "Epoch 47/50\n",
      "353/353 [==============================] - 0s 592us/step - loss: 0.0225 - accuracy: 0.9951\n",
      "Epoch 48/50\n",
      "353/353 [==============================] - 0s 592us/step - loss: 0.0592 - accuracy: 0.9825\n",
      "Epoch 49/50\n",
      "353/353 [==============================] - 0s 586us/step - loss: 0.1283 - accuracy: 0.9615\n",
      "Epoch 50/50\n",
      "353/353 [==============================] - 0s 595us/step - loss: 0.0447 - accuracy: 0.9880\n"
     ]
    }
   ],
   "source": [
    "with tf.device(\"/device:CPU:0\"):\n",
    "    # 모델의 설정\n",
    "    model = Sequential()\n",
    "    model.add(Dense(512,  input_dim=100 , activation='relu'))\n",
    "    model.add(Dense(1, activation='sigmoid'))\n",
    "    \n",
    "    # 모델 컴파일\n",
    "    model.compile(loss='binary_crossentropy',\n",
    "                optimizer='adam',\n",
    "                metrics=['accuracy'])\n",
    "    \n",
    "    # 모델 실행\n",
    "    model.fit(x_train, y_train, epochs=50, batch_size=32)"
   ]
  },
  {
   "cell_type": "code",
   "execution_count": 39,
   "id": "b8f53637",
   "metadata": {},
   "outputs": [],
   "source": [
    "with tf.device(\"/device:CPU:0\"):\n",
    "    y_pred = model.predict(x_test)\n",
    "    \n",
    "    predic =[]\n",
    "    for i in range(len(y_pred)):\n",
    "        if y_pred[i]<0.5:\n",
    "            predic.append(0)\n",
    "        else:\n",
    "            predic.append(1)"
   ]
  },
  {
   "cell_type": "code",
   "execution_count": 40,
   "id": "3829fb05",
   "metadata": {},
   "outputs": [
    {
     "name": "stdout",
     "output_type": "stream",
     "text": [
      "0.5765765765765766\n",
      "0.7091773460107482\n",
      "0.6073123081216858\n",
      "0.6852723614838152\n",
      "0.6415094339622641\n"
     ]
    }
   ],
   "source": [
    "print(recall_score(y_test, predic))\n",
    "print(accuracy_score(y_test,predic)) \n",
    "print(f1_score(y_test,predic))       \n",
    "print(roc_auc_score(y_test,predic))\n",
    "print(precision_score(y_test,predic))"
   ]
  },
  {
   "cell_type": "markdown",
   "id": "68c0cce6",
   "metadata": {},
   "source": [
    "# Image only"
   ]
  },
  {
   "cell_type": "code",
   "execution_count": 42,
   "id": "aac2f0bf",
   "metadata": {},
   "outputs": [],
   "source": [
    "le = preprocessing.LabelEncoder()\n",
    "le.fit(Y.values) #Y변수 Label Encoding해주기\n",
    "\n",
    "y = le.transform(Y.values)\n",
    "x_train,x_test,y_train,y_test = train_test_split(images,y,test_size=0.3,random_state=2022,stratify=y)"
   ]
  },
  {
   "cell_type": "code",
   "execution_count": 43,
   "id": "dc1f2671",
   "metadata": {
    "scrolled": true
   },
   "outputs": [
    {
     "name": "stdout",
     "output_type": "stream",
     "text": [
      "Epoch 1/50\n",
      "353/353 [==============================] - 0s 581us/step - loss: 0.6694 - accuracy: 0.6099\n",
      "Epoch 2/50\n",
      "353/353 [==============================] - 0s 606us/step - loss: 0.6684 - accuracy: 0.6100\n",
      "Epoch 3/50\n",
      "353/353 [==============================] - 0s 586us/step - loss: 0.6668 - accuracy: 0.6100\n",
      "Epoch 4/50\n",
      "353/353 [==============================] - 0s 584us/step - loss: 0.6669 - accuracy: 0.6100\n",
      "Epoch 5/50\n",
      "353/353 [==============================] - 0s 589us/step - loss: 0.6658 - accuracy: 0.6100\n",
      "Epoch 6/50\n",
      "353/353 [==============================] - 0s 584us/step - loss: 0.6655 - accuracy: 0.6099\n",
      "Epoch 7/50\n",
      "353/353 [==============================] - 0s 612us/step - loss: 0.6648 - accuracy: 0.6101\n",
      "Epoch 8/50\n",
      "353/353 [==============================] - 0s 586us/step - loss: 0.6636 - accuracy: 0.6108\n",
      "Epoch 9/50\n",
      "353/353 [==============================] - 0s 589us/step - loss: 0.6633 - accuracy: 0.6108\n",
      "Epoch 10/50\n",
      "353/353 [==============================] - 0s 601us/step - loss: 0.6627 - accuracy: 0.6106\n",
      "Epoch 11/50\n",
      "353/353 [==============================] - 0s 595us/step - loss: 0.6625 - accuracy: 0.6111\n",
      "Epoch 12/50\n",
      "353/353 [==============================] - 0s 584us/step - loss: 0.6617 - accuracy: 0.6114\n",
      "Epoch 13/50\n",
      "353/353 [==============================] - 0s 584us/step - loss: 0.6609 - accuracy: 0.6100\n",
      "Epoch 14/50\n",
      "353/353 [==============================] - 0s 589us/step - loss: 0.6612 - accuracy: 0.6105\n",
      "Epoch 15/50\n",
      "353/353 [==============================] - 0s 601us/step - loss: 0.6603 - accuracy: 0.6100\n",
      "Epoch 16/50\n",
      "353/353 [==============================] - 0s 589us/step - loss: 0.6595 - accuracy: 0.6111\n",
      "Epoch 17/50\n",
      "353/353 [==============================] - 0s 586us/step - loss: 0.6595 - accuracy: 0.6101\n",
      "Epoch 18/50\n",
      "353/353 [==============================] - 0s 586us/step - loss: 0.6591 - accuracy: 0.6095\n",
      "Epoch 19/50\n",
      "353/353 [==============================] - 0s 586us/step - loss: 0.6586 - accuracy: 0.6115\n",
      "Epoch 20/50\n",
      "353/353 [==============================] - 0s 584us/step - loss: 0.6578 - accuracy: 0.6128\n",
      "Epoch 21/50\n",
      "353/353 [==============================] - 0s 586us/step - loss: 0.6579 - accuracy: 0.6095\n",
      "Epoch 22/50\n",
      "353/353 [==============================] - 0s 578us/step - loss: 0.6579 - accuracy: 0.6111\n",
      "Epoch 23/50\n",
      "353/353 [==============================] - 0s 581us/step - loss: 0.6571 - accuracy: 0.6111\n",
      "Epoch 24/50\n",
      "353/353 [==============================] - 0s 581us/step - loss: 0.6565 - accuracy: 0.6140\n",
      "Epoch 25/50\n",
      "353/353 [==============================] - 0s 586us/step - loss: 0.6559 - accuracy: 0.6125\n",
      "Epoch 26/50\n",
      "353/353 [==============================] - 0s 584us/step - loss: 0.6560 - accuracy: 0.6141\n",
      "Epoch 27/50\n",
      "353/353 [==============================] - 0s 584us/step - loss: 0.6552 - accuracy: 0.6126\n",
      "Epoch 28/50\n",
      "353/353 [==============================] - 0s 595us/step - loss: 0.6550 - accuracy: 0.6136\n",
      "Epoch 29/50\n",
      "353/353 [==============================] - 0s 581us/step - loss: 0.6545 - accuracy: 0.6140\n",
      "Epoch 30/50\n",
      "353/353 [==============================] - 0s 584us/step - loss: 0.6541 - accuracy: 0.6139\n",
      "Epoch 31/50\n",
      "353/353 [==============================] - 0s 592us/step - loss: 0.6541 - accuracy: 0.6131\n",
      "Epoch 32/50\n",
      "353/353 [==============================] - 0s 581us/step - loss: 0.6531 - accuracy: 0.6121\n",
      "Epoch 33/50\n",
      "353/353 [==============================] - 0s 635us/step - loss: 0.6530 - accuracy: 0.6155\n",
      "Epoch 34/50\n",
      "353/353 [==============================] - 0s 578us/step - loss: 0.6522 - accuracy: 0.6142\n",
      "Epoch 35/50\n",
      "353/353 [==============================] - 0s 589us/step - loss: 0.6517 - accuracy: 0.6166\n",
      "Epoch 36/50\n",
      "353/353 [==============================] - 0s 581us/step - loss: 0.6512 - accuracy: 0.6152\n",
      "Epoch 37/50\n",
      "353/353 [==============================] - 0s 581us/step - loss: 0.6505 - accuracy: 0.6154\n",
      "Epoch 38/50\n",
      "353/353 [==============================] - 0s 575us/step - loss: 0.6504 - accuracy: 0.6169\n",
      "Epoch 39/50\n",
      "353/353 [==============================] - 0s 587us/step - loss: 0.6494 - accuracy: 0.6165\n",
      "Epoch 40/50\n",
      "353/353 [==============================] - 0s 589us/step - loss: 0.6495 - accuracy: 0.6178\n",
      "Epoch 41/50\n",
      "353/353 [==============================] - 0s 592us/step - loss: 0.6479 - accuracy: 0.6192\n",
      "Epoch 42/50\n",
      "353/353 [==============================] - 0s 589us/step - loss: 0.6476 - accuracy: 0.6170\n",
      "Epoch 43/50\n",
      "353/353 [==============================] - 0s 581us/step - loss: 0.6472 - accuracy: 0.6203\n",
      "Epoch 44/50\n",
      "353/353 [==============================] - 0s 578us/step - loss: 0.6462 - accuracy: 0.6190\n",
      "Epoch 45/50\n",
      "353/353 [==============================] - 0s 589us/step - loss: 0.6463 - accuracy: 0.6188\n",
      "Epoch 46/50\n",
      "353/353 [==============================] - 0s 592us/step - loss: 0.6456 - accuracy: 0.6189\n",
      "Epoch 47/50\n",
      "353/353 [==============================] - 0s 632us/step - loss: 0.6441 - accuracy: 0.6237\n",
      "Epoch 48/50\n",
      "353/353 [==============================] - 0s 586us/step - loss: 0.6432 - accuracy: 0.6203\n",
      "Epoch 49/50\n",
      "353/353 [==============================] - 0s 581us/step - loss: 0.6432 - accuracy: 0.6247\n",
      "Epoch 50/50\n",
      "353/353 [==============================] - 0s 581us/step - loss: 0.6423 - accuracy: 0.6224\n"
     ]
    }
   ],
   "source": [
    "with tf.device(\"/device:CPU:0\"):\n",
    "    # 모델의 설정\n",
    "    model = Sequential()\n",
    "    model.add(Dense(512,  input_dim=100 , activation='relu'))\n",
    "    model.add(Dense(1, activation='sigmoid'))\n",
    "    \n",
    "    # 모델 컴파일\n",
    "    model.compile(loss='binary_crossentropy',\n",
    "                optimizer='adam',\n",
    "                metrics=['accuracy'])\n",
    "    \n",
    "    # 모델 실행\n",
    "    model.fit(x_train, y_train, epochs=50, batch_size=32)"
   ]
  },
  {
   "cell_type": "code",
   "execution_count": 44,
   "id": "01ccad4e",
   "metadata": {},
   "outputs": [],
   "source": [
    "with tf.device(\"/device:CPU:0\"):\n",
    "    y_pred = model.predict(x_test)\n",
    "    \n",
    "    predic =[]\n",
    "    for i in range(len(y_pred)):\n",
    "        if y_pred[i]<0.5:\n",
    "            predic.append(0)\n",
    "        else:\n",
    "            predic.append(1)"
   ]
  },
  {
   "cell_type": "code",
   "execution_count": 45,
   "id": "53f9c967",
   "metadata": {},
   "outputs": [
    {
     "name": "stdout",
     "output_type": "stream",
     "text": [
      "0.04080551139374669\n",
      "0.6107895824720959\n",
      "0.07560137457044674\n",
      "0.5080340671167309\n",
      "0.5133333333333333\n"
     ]
    }
   ],
   "source": [
    "print(recall_score(y_test, predic))\n",
    "print(accuracy_score(y_test,predic)) \n",
    "print(f1_score(y_test,predic))       \n",
    "print(roc_auc_score(y_test,predic))\n",
    "print(precision_score(y_test,predic))"
   ]
  },
  {
   "cell_type": "markdown",
   "id": "085c9f85",
   "metadata": {},
   "source": [
    "# Concatanation Approach"
   ]
  },
  {
   "cell_type": "code",
   "execution_count": 46,
   "id": "3237d112",
   "metadata": {},
   "outputs": [],
   "source": [
    "train = pd.concat([te,images],axis=1)\n",
    "x_train,x_test,y_train,y_test = train_test_split(train,y,test_size=0.3,random_state=2022,stratify=y)"
   ]
  },
  {
   "cell_type": "code",
   "execution_count": 47,
   "id": "d70c37e4",
   "metadata": {
    "scrolled": true
   },
   "outputs": [
    {
     "name": "stdout",
     "output_type": "stream",
     "text": [
      "Epoch 1/50\n",
      "353/353 [==============================] - 0s 615us/step - loss: 0.5765 - accuracy: 0.7071\n",
      "Epoch 2/50\n",
      "353/353 [==============================] - 0s 626us/step - loss: 0.5097 - accuracy: 0.7504\n",
      "Epoch 3/50\n",
      "353/353 [==============================] - 0s 629us/step - loss: 0.4715 - accuracy: 0.7759\n",
      "Epoch 4/50\n",
      "353/353 [==============================] - 0s 623us/step - loss: 0.4336 - accuracy: 0.8035\n",
      "Epoch 5/50\n",
      "353/353 [==============================] - 0s 635us/step - loss: 0.3998 - accuracy: 0.8259\n",
      "Epoch 6/50\n",
      "353/353 [==============================] - 0s 649us/step - loss: 0.3689 - accuracy: 0.8392\n",
      "Epoch 7/50\n",
      "353/353 [==============================] - 0s 629us/step - loss: 0.3398 - accuracy: 0.8595\n",
      "Epoch 8/50\n",
      "353/353 [==============================] - 0s 643us/step - loss: 0.3072 - accuracy: 0.8753\n",
      "Epoch 9/50\n",
      "353/353 [==============================] - 0s 637us/step - loss: 0.2800 - accuracy: 0.8901\n",
      "Epoch 10/50\n",
      "353/353 [==============================] - 0s 632us/step - loss: 0.2558 - accuracy: 0.9016\n",
      "Epoch 11/50\n",
      "353/353 [==============================] - 0s 635us/step - loss: 0.2333 - accuracy: 0.9142\n",
      "Epoch 12/50\n",
      "353/353 [==============================] - 0s 629us/step - loss: 0.2131 - accuracy: 0.9247\n",
      "Epoch 13/50\n",
      "353/353 [==============================] - 0s 643us/step - loss: 0.1917 - accuracy: 0.9328\n",
      "Epoch 14/50\n",
      "353/353 [==============================] - 0s 677us/step - loss: 0.1761 - accuracy: 0.9404\n",
      "Epoch 15/50\n",
      "353/353 [==============================] - 0s 618us/step - loss: 0.1581 - accuracy: 0.9504\n",
      "Epoch 16/50\n",
      "353/353 [==============================] - 0s 623us/step - loss: 0.1459 - accuracy: 0.9526\n",
      "Epoch 17/50\n",
      "353/353 [==============================] - 0s 635us/step - loss: 0.1317 - accuracy: 0.9615\n",
      "Epoch 18/50\n",
      "353/353 [==============================] - 0s 620us/step - loss: 0.1218 - accuracy: 0.9650\n",
      "Epoch 19/50\n",
      "353/353 [==============================] - 0s 632us/step - loss: 0.1104 - accuracy: 0.9677\n",
      "Epoch 20/50\n",
      "353/353 [==============================] - 0s 626us/step - loss: 0.0980 - accuracy: 0.9759\n",
      "Epoch 21/50\n",
      "353/353 [==============================] - 0s 632us/step - loss: 0.0907 - accuracy: 0.9763\n",
      "Epoch 22/50\n",
      "353/353 [==============================] - 0s 618us/step - loss: 0.0824 - accuracy: 0.9795\n",
      "Epoch 23/50\n",
      "353/353 [==============================] - 0s 632us/step - loss: 0.0848 - accuracy: 0.9775\n",
      "Epoch 24/50\n",
      "353/353 [==============================] - 0s 640us/step - loss: 0.0681 - accuracy: 0.9852\n",
      "Epoch 25/50\n",
      "353/353 [==============================] - 0s 632us/step - loss: 0.0608 - accuracy: 0.9868\n",
      "Epoch 26/50\n",
      "353/353 [==============================] - 0s 635us/step - loss: 0.0624 - accuracy: 0.9856\n",
      "Epoch 27/50\n",
      "353/353 [==============================] - 0s 626us/step - loss: 0.0634 - accuracy: 0.9838\n",
      "Epoch 28/50\n",
      "353/353 [==============================] - 0s 635us/step - loss: 0.0546 - accuracy: 0.9879\n",
      "Epoch 29/50\n",
      "353/353 [==============================] - 0s 623us/step - loss: 0.0554 - accuracy: 0.9875\n",
      "Epoch 30/50\n",
      "353/353 [==============================] - 0s 626us/step - loss: 0.0542 - accuracy: 0.9881\n",
      "Epoch 31/50\n",
      "353/353 [==============================] - 0s 620us/step - loss: 0.0418 - accuracy: 0.9920\n",
      "Epoch 32/50\n",
      "353/353 [==============================] - 0s 626us/step - loss: 0.0386 - accuracy: 0.9933\n",
      "Epoch 33/50\n",
      "353/353 [==============================] - 0s 637us/step - loss: 0.0327 - accuracy: 0.9947\n",
      "Epoch 34/50\n",
      "353/353 [==============================] - 0s 671us/step - loss: 0.0293 - accuracy: 0.9951\n",
      "Epoch 35/50\n",
      "353/353 [==============================] - 0s 629us/step - loss: 0.0295 - accuracy: 0.9944\n",
      "Epoch 36/50\n",
      "353/353 [==============================] - 0s 629us/step - loss: 0.0934 - accuracy: 0.9687\n",
      "Epoch 37/50\n",
      "353/353 [==============================] - 0s 632us/step - loss: 0.0536 - accuracy: 0.9856\n",
      "Epoch 38/50\n",
      "353/353 [==============================] - 0s 637us/step - loss: 0.0305 - accuracy: 0.9950\n",
      "Epoch 39/50\n",
      "353/353 [==============================] - 0s 626us/step - loss: 0.0244 - accuracy: 0.9964\n",
      "Epoch 40/50\n",
      "353/353 [==============================] - 0s 626us/step - loss: 0.0225 - accuracy: 0.9961\n",
      "Epoch 41/50\n",
      "353/353 [==============================] - 0s 637us/step - loss: 0.0211 - accuracy: 0.9964\n",
      "Epoch 42/50\n",
      "353/353 [==============================] - 0s 626us/step - loss: 0.0201 - accuracy: 0.9961\n",
      "Epoch 43/50\n",
      "353/353 [==============================] - 0s 632us/step - loss: 0.0187 - accuracy: 0.9966\n",
      "Epoch 44/50\n",
      "353/353 [==============================] - 0s 626us/step - loss: 0.0182 - accuracy: 0.9966\n",
      "Epoch 45/50\n",
      "353/353 [==============================] - 0s 626us/step - loss: 0.0594 - accuracy: 0.9855\n",
      "Epoch 46/50\n",
      "353/353 [==============================] - 0s 623us/step - loss: 0.1212 - accuracy: 0.9600\n",
      "Epoch 47/50\n",
      "353/353 [==============================] - 0s 618us/step - loss: 0.0342 - accuracy: 0.9926\n",
      "Epoch 48/50\n",
      "353/353 [==============================] - 0s 620us/step - loss: 0.0216 - accuracy: 0.9964\n",
      "Epoch 49/50\n",
      "353/353 [==============================] - 0s 623us/step - loss: 0.0179 - accuracy: 0.9969\n",
      "Epoch 50/50\n",
      "353/353 [==============================] - 0s 632us/step - loss: 0.0165 - accuracy: 0.9971\n"
     ]
    }
   ],
   "source": [
    "with tf.device(\"/device:CPU:0\"):\n",
    "    # 모델의 설정\n",
    "    model = Sequential()\n",
    "    model.add(Dense(512,  input_dim=200 , activation='relu'))\n",
    "    model.add(Dense(1, activation='sigmoid'))\n",
    "    \n",
    "    # 모델 컴파일\n",
    "    model.compile(loss='binary_crossentropy',\n",
    "                optimizer='adam',\n",
    "                metrics=['accuracy'])\n",
    "    \n",
    "    # 모델 실행\n",
    "    model.fit(x_train, y_train, epochs=50, batch_size=32)"
   ]
  },
  {
   "cell_type": "code",
   "execution_count": 48,
   "id": "8592cca7",
   "metadata": {},
   "outputs": [],
   "source": [
    "with tf.device(\"/device:CPU:0\"):\n",
    "    y_pred = model.predict(x_test)\n",
    "    \n",
    "    predic =[]\n",
    "    for i in range(len(y_pred)):\n",
    "        if y_pred[i]<0.5:\n",
    "            predic.append(0)\n",
    "        else:\n",
    "            predic.append(1)"
   ]
  },
  {
   "cell_type": "code",
   "execution_count": 49,
   "id": "c46bb827",
   "metadata": {},
   "outputs": [
    {
     "name": "stdout",
     "output_type": "stream",
     "text": [
      "0.5914149443561209\n",
      "0.7180653162463828\n",
      "0.6206896551724138\n",
      "0.6952330567256714\n",
      "0.6530134581626682\n"
     ]
    }
   ],
   "source": [
    "print(recall_score(y_test, predic))\n",
    "print(accuracy_score(y_test,predic)) \n",
    "print(f1_score(y_test,predic))       \n",
    "print(roc_auc_score(y_test,predic))\n",
    "print(precision_score(y_test,predic))"
   ]
  },
  {
   "cell_type": "markdown",
   "id": "7966f553",
   "metadata": {},
   "source": [
    "# Element Wise Sum"
   ]
  },
  {
   "cell_type": "code",
   "execution_count": 50,
   "id": "ba190df7",
   "metadata": {},
   "outputs": [],
   "source": [
    "train = te+images\n",
    "x_train,x_test,y_train,y_test = train_test_split(train,y,test_size=0.3,random_state=2022,stratify=y)"
   ]
  },
  {
   "cell_type": "code",
   "execution_count": 51,
   "id": "225e6cec",
   "metadata": {
    "scrolled": true
   },
   "outputs": [
    {
     "name": "stdout",
     "output_type": "stream",
     "text": [
      "Epoch 1/50\n",
      "353/353 [==============================] - 0s 584us/step - loss: 0.5899 - accuracy: 0.7002\n",
      "Epoch 2/50\n",
      "353/353 [==============================] - 0s 575us/step - loss: 0.5153 - accuracy: 0.7504\n",
      "Epoch 3/50\n",
      "353/353 [==============================] - 0s 584us/step - loss: 0.4688 - accuracy: 0.7798\n",
      "Epoch 4/50\n",
      "353/353 [==============================] - 0s 581us/step - loss: 0.4319 - accuracy: 0.8038\n",
      "Epoch 5/50\n",
      "353/353 [==============================] - 0s 595us/step - loss: 0.3985 - accuracy: 0.8238\n",
      "Epoch 6/50\n",
      "353/353 [==============================] - 0s 586us/step - loss: 0.3663 - accuracy: 0.8430\n",
      "Epoch 7/50\n",
      "353/353 [==============================] - 0s 606us/step - loss: 0.3382 - accuracy: 0.8593\n",
      "Epoch 8/50\n",
      "353/353 [==============================] - 0s 598us/step - loss: 0.3094 - accuracy: 0.8744\n",
      "Epoch 9/50\n",
      "353/353 [==============================] - 0s 584us/step - loss: 0.2837 - accuracy: 0.8880\n",
      "Epoch 10/50\n",
      "353/353 [==============================] - 0s 587us/step - loss: 0.2620 - accuracy: 0.9040\n",
      "Epoch 11/50\n",
      "353/353 [==============================] - 0s 592us/step - loss: 0.2359 - accuracy: 0.9150\n",
      "Epoch 12/50\n",
      "353/353 [==============================] - 0s 592us/step - loss: 0.2203 - accuracy: 0.9198\n",
      "Epoch 13/50\n",
      "353/353 [==============================] - 0s 584us/step - loss: 0.2019 - accuracy: 0.9277\n",
      "Epoch 14/50\n",
      "353/353 [==============================] - 0s 581us/step - loss: 0.1856 - accuracy: 0.9348\n",
      "Epoch 15/50\n",
      "353/353 [==============================] - 0s 578us/step - loss: 0.1666 - accuracy: 0.9480\n",
      "Epoch 16/50\n",
      "353/353 [==============================] - 0s 589us/step - loss: 0.1531 - accuracy: 0.9510\n",
      "Epoch 17/50\n",
      "353/353 [==============================] - 0s 584us/step - loss: 0.1454 - accuracy: 0.9537\n",
      "Epoch 18/50\n",
      "353/353 [==============================] - 0s 578us/step - loss: 0.1293 - accuracy: 0.9632\n",
      "Epoch 19/50\n",
      "353/353 [==============================] - 0s 581us/step - loss: 0.1182 - accuracy: 0.9665\n",
      "Epoch 20/50\n",
      "353/353 [==============================] - 0s 578us/step - loss: 0.1086 - accuracy: 0.9704\n",
      "Epoch 21/50\n",
      "353/353 [==============================] - 0s 581us/step - loss: 0.1016 - accuracy: 0.9718\n",
      "Epoch 22/50\n",
      "353/353 [==============================] - 0s 584us/step - loss: 0.0998 - accuracy: 0.9721\n",
      "Epoch 23/50\n",
      "353/353 [==============================] - 0s 581us/step - loss: 0.0901 - accuracy: 0.9766\n",
      "Epoch 24/50\n",
      "353/353 [==============================] - 0s 581us/step - loss: 0.0782 - accuracy: 0.9799\n",
      "Epoch 25/50\n",
      "353/353 [==============================] - 0s 584us/step - loss: 0.0736 - accuracy: 0.9823\n",
      "Epoch 26/50\n",
      "353/353 [==============================] - 0s 581us/step - loss: 0.0673 - accuracy: 0.9848\n",
      "Epoch 27/50\n",
      "353/353 [==============================] - 0s 584us/step - loss: 0.0646 - accuracy: 0.9853\n",
      "Epoch 28/50\n",
      "353/353 [==============================] - 0s 578us/step - loss: 0.0636 - accuracy: 0.9834\n",
      "Epoch 29/50\n",
      "353/353 [==============================] - 0s 575us/step - loss: 0.0652 - accuracy: 0.9843\n",
      "Epoch 30/50\n",
      "353/353 [==============================] - 0s 589us/step - loss: 0.0526 - accuracy: 0.9892\n",
      "Epoch 31/50\n",
      "353/353 [==============================] - 0s 584us/step - loss: 0.0448 - accuracy: 0.9907\n",
      "Epoch 32/50\n",
      "353/353 [==============================] - 0s 584us/step - loss: 0.0571 - accuracy: 0.9867\n",
      "Epoch 33/50\n",
      "353/353 [==============================] - 0s 584us/step - loss: 0.0957 - accuracy: 0.9704\n",
      "Epoch 34/50\n",
      "353/353 [==============================] - 0s 584us/step - loss: 0.0488 - accuracy: 0.9893\n",
      "Epoch 35/50\n",
      "353/353 [==============================] - 0s 586us/step - loss: 0.0378 - accuracy: 0.9931\n",
      "Epoch 36/50\n",
      "353/353 [==============================] - 0s 581us/step - loss: 0.0342 - accuracy: 0.9934\n",
      "Epoch 37/50\n",
      "353/353 [==============================] - 0s 592us/step - loss: 0.0317 - accuracy: 0.9942\n",
      "Epoch 38/50\n",
      "353/353 [==============================] - 0s 581us/step - loss: 0.0300 - accuracy: 0.9943\n",
      "Epoch 39/50\n",
      "353/353 [==============================] - 0s 581us/step - loss: 0.0299 - accuracy: 0.9946\n",
      "Epoch 40/50\n",
      "353/353 [==============================] - 0s 581us/step - loss: 0.0288 - accuracy: 0.9949\n",
      "Epoch 41/50\n",
      "353/353 [==============================] - 0s 586us/step - loss: 0.0775 - accuracy: 0.9766\n",
      "Epoch 42/50\n",
      "353/353 [==============================] - 0s 584us/step - loss: 0.0944 - accuracy: 0.9682\n",
      "Epoch 43/50\n",
      "353/353 [==============================] - 0s 584us/step - loss: 0.0401 - accuracy: 0.9909\n",
      "Epoch 44/50\n",
      "353/353 [==============================] - 0s 586us/step - loss: 0.0282 - accuracy: 0.9953\n",
      "Epoch 45/50\n",
      "353/353 [==============================] - 0s 584us/step - loss: 0.0250 - accuracy: 0.9956\n",
      "Epoch 46/50\n",
      "353/353 [==============================] - 0s 586us/step - loss: 0.0242 - accuracy: 0.9956\n",
      "Epoch 47/50\n",
      "353/353 [==============================] - 0s 592us/step - loss: 0.0225 - accuracy: 0.9958\n",
      "Epoch 48/50\n",
      "353/353 [==============================] - 0s 601us/step - loss: 0.0222 - accuracy: 0.9955\n",
      "Epoch 49/50\n",
      "353/353 [==============================] - 0s 598us/step - loss: 0.0212 - accuracy: 0.9951\n",
      "Epoch 50/50\n",
      "353/353 [==============================] - 0s 606us/step - loss: 0.0209 - accuracy: 0.9957\n"
     ]
    }
   ],
   "source": [
    "with tf.device(\"/device:CPU:0\"):\n",
    "    # 모델의 설정\n",
    "    model = Sequential()\n",
    "    model.add(Dense(512,  input_dim=100 , activation='relu'))\n",
    "    model.add(Dense(1, activation='sigmoid'))\n",
    "    \n",
    "    # 모델 컴파일\n",
    "    model.compile(loss='binary_crossentropy',\n",
    "                optimizer='adam',\n",
    "                metrics=['accuracy'])\n",
    "    \n",
    "    # 모델 실행\n",
    "    model.fit(x_train, y_train, epochs=50, batch_size=32)"
   ]
  },
  {
   "cell_type": "code",
   "execution_count": 52,
   "id": "44a2926b",
   "metadata": {},
   "outputs": [],
   "source": [
    "with tf.device(\"/device:CPU:0\"):\n",
    "    y_pred = model.predict(x_test)\n",
    "    \n",
    "    predic =[]\n",
    "    for i in range(len(y_pred)):\n",
    "        if y_pred[i]<0.5:\n",
    "            predic.append(0)\n",
    "        else:\n",
    "            predic.append(1)"
   ]
  },
  {
   "cell_type": "code",
   "execution_count": 53,
   "id": "315b4dc0",
   "metadata": {},
   "outputs": [
    {
     "name": "stdout",
     "output_type": "stream",
     "text": [
      "0.6263910969793323\n",
      "0.7093840429929723\n",
      "0.6270557029177719\n",
      "0.694422251302272\n",
      "0.6277217206585236\n"
     ]
    }
   ],
   "source": [
    "print(recall_score(y_test, predic))\n",
    "print(accuracy_score(y_test,predic)) \n",
    "print(f1_score(y_test,predic))       \n",
    "print(roc_auc_score(y_test,predic))\n",
    "print(precision_score(y_test,predic))"
   ]
  },
  {
   "cell_type": "markdown",
   "id": "c7bd7db4",
   "metadata": {},
   "source": [
    "# Tensor Fusion Network"
   ]
  },
  {
   "cell_type": "code",
   "execution_count": 54,
   "id": "bf553a3c",
   "metadata": {},
   "outputs": [],
   "source": [
    "te['add1']=1\n",
    "images['add1']=1"
   ]
  },
  {
   "cell_type": "code",
   "execution_count": 55,
   "id": "3481f34f",
   "metadata": {},
   "outputs": [
    {
     "name": "stderr",
     "output_type": "stream",
     "text": [
      "100%|██████████████████████████████████████████████████████████████████████████| 16124/16124 [00:03<00:00, 5365.80it/s]\n"
     ]
    }
   ],
   "source": [
    "tfn=[]\n",
    "for i in tqdm(range(0,len(te))):\n",
    "    tfn.append(np.outer(te.iloc[i:i+1,:].values,images.iloc[i:i+1,:].values))"
   ]
  },
  {
   "cell_type": "code",
   "execution_count": 56,
   "id": "8196ff9b",
   "metadata": {},
   "outputs": [],
   "source": [
    "tfn = np.array(tfn).reshape(16124,101*101)\n",
    "\n",
    "x_train,x_test,y_train,y_test = train_test_split(tfn,y,test_size=0.3,random_state=2022,stratify=y)"
   ]
  },
  {
   "cell_type": "code",
   "execution_count": 57,
   "id": "ac536b2d",
   "metadata": {
    "scrolled": true
   },
   "outputs": [
    {
     "name": "stdout",
     "output_type": "stream",
     "text": [
      "Epoch 1/50\n",
      "353/353 [==============================] - 9s 25ms/step - loss: 0.5768 - accuracy: 0.7125\n",
      "Epoch 2/50\n",
      "353/353 [==============================] - 8s 24ms/step - loss: 0.5037 - accuracy: 0.7593\n",
      "Epoch 3/50\n",
      "353/353 [==============================] - 8s 24ms/step - loss: 0.4488 - accuracy: 0.7927\n",
      "Epoch 4/50\n",
      "353/353 [==============================] - 8s 24ms/step - loss: 0.3917 - accuracy: 0.8284\n",
      "Epoch 5/50\n",
      "353/353 [==============================] - 8s 23ms/step - loss: 0.3259 - accuracy: 0.8623\n",
      "Epoch 6/50\n",
      "353/353 [==============================] - 8s 24ms/step - loss: 0.2676 - accuracy: 0.8943\n",
      "Epoch 7/50\n",
      "353/353 [==============================] - 8s 24ms/step - loss: 0.2187 - accuracy: 0.9195\n",
      "Epoch 8/50\n",
      "353/353 [==============================] - 8s 24ms/step - loss: 0.1731 - accuracy: 0.9399\n",
      "Epoch 9/50\n",
      "353/353 [==============================] - 8s 23ms/step - loss: 0.1413 - accuracy: 0.9522\n",
      "Epoch 10/50\n",
      "353/353 [==============================] - 8s 23ms/step - loss: 0.1175 - accuracy: 0.9638\n",
      "Epoch 11/50\n",
      "353/353 [==============================] - 8s 23ms/step - loss: 0.0955 - accuracy: 0.9709\n",
      "Epoch 12/50\n",
      "353/353 [==============================] - 8s 23ms/step - loss: 0.0797 - accuracy: 0.9759\n",
      "Epoch 13/50\n",
      "353/353 [==============================] - 8s 23ms/step - loss: 0.0643 - accuracy: 0.9828\n",
      "Epoch 14/50\n",
      "353/353 [==============================] - 8s 23ms/step - loss: 0.0487 - accuracy: 0.9891\n",
      "Epoch 15/50\n",
      "353/353 [==============================] - 8s 23ms/step - loss: 0.0398 - accuracy: 0.9918\n",
      "Epoch 16/50\n",
      "353/353 [==============================] - 8s 23ms/step - loss: 0.0848 - accuracy: 0.9728\n",
      "Epoch 17/50\n",
      "353/353 [==============================] - 8s 23ms/step - loss: 0.0806 - accuracy: 0.9746\n",
      "Epoch 18/50\n",
      "353/353 [==============================] - 8s 23ms/step - loss: 0.0387 - accuracy: 0.9924\n",
      "Epoch 19/50\n",
      "353/353 [==============================] - 8s 23ms/step - loss: 0.0256 - accuracy: 0.9962\n",
      "Epoch 20/50\n",
      "353/353 [==============================] - 8s 23ms/step - loss: 0.0204 - accuracy: 0.9963\n",
      "Epoch 21/50\n",
      "353/353 [==============================] - 8s 23ms/step - loss: 0.0177 - accuracy: 0.9967\n",
      "Epoch 22/50\n",
      "353/353 [==============================] - 8s 23ms/step - loss: 0.0155 - accuracy: 0.9971\n",
      "Epoch 23/50\n",
      "353/353 [==============================] - 8s 23ms/step - loss: 0.0149 - accuracy: 0.9973\n",
      "Epoch 24/50\n",
      "353/353 [==============================] - 8s 23ms/step - loss: 0.0136 - accuracy: 0.9973\n",
      "Epoch 25/50\n",
      "353/353 [==============================] - 8s 23ms/step - loss: 0.0121 - accuracy: 0.9974\n",
      "Epoch 26/50\n",
      "353/353 [==============================] - 8s 23ms/step - loss: 0.0111 - accuracy: 0.9977\n",
      "Epoch 27/50\n",
      "353/353 [==============================] - 8s 23ms/step - loss: 0.0106 - accuracy: 0.9977\n",
      "Epoch 28/50\n",
      "353/353 [==============================] - 8s 23ms/step - loss: 0.0108 - accuracy: 0.9978\n",
      "Epoch 29/50\n",
      "353/353 [==============================] - 8s 23ms/step - loss: 0.2245 - accuracy: 0.9351\n",
      "Epoch 30/50\n",
      "353/353 [==============================] - 8s 23ms/step - loss: 0.0672 - accuracy: 0.9795\n",
      "Epoch 31/50\n",
      "353/353 [==============================] - 8s 23ms/step - loss: 0.0257 - accuracy: 0.9949\n",
      "Epoch 32/50\n",
      "353/353 [==============================] - 8s 23ms/step - loss: 0.0170 - accuracy: 0.9967\n",
      "Epoch 33/50\n",
      "353/353 [==============================] - 8s 23ms/step - loss: 0.0139 - accuracy: 0.9975\n",
      "Epoch 34/50\n",
      "353/353 [==============================] - 8s 23ms/step - loss: 0.0120 - accuracy: 0.9978\n",
      "Epoch 35/50\n",
      "353/353 [==============================] - 8s 23ms/step - loss: 0.0111 - accuracy: 0.9978\n",
      "Epoch 36/50\n",
      "353/353 [==============================] - 8s 23ms/step - loss: 0.0106 - accuracy: 0.9979\n",
      "Epoch 37/50\n",
      "353/353 [==============================] - 8s 23ms/step - loss: 0.0099 - accuracy: 0.9979\n",
      "Epoch 38/50\n",
      "353/353 [==============================] - 8s 23ms/step - loss: 0.0091 - accuracy: 0.9979\n",
      "Epoch 39/50\n",
      "353/353 [==============================] - 8s 23ms/step - loss: 0.0091 - accuracy: 0.9979\n",
      "Epoch 40/50\n",
      "353/353 [==============================] - 8s 23ms/step - loss: 0.0084 - accuracy: 0.9980\n",
      "Epoch 41/50\n",
      "353/353 [==============================] - 8s 23ms/step - loss: 0.0084 - accuracy: 0.9979\n",
      "Epoch 42/50\n",
      "353/353 [==============================] - 8s 23ms/step - loss: 0.0081 - accuracy: 0.9980\n",
      "Epoch 43/50\n",
      "353/353 [==============================] - 8s 23ms/step - loss: 0.0076 - accuracy: 0.9979\n",
      "Epoch 44/50\n",
      "353/353 [==============================] - 8s 23ms/step - loss: 0.0073 - accuracy: 0.9979\n",
      "Epoch 45/50\n",
      "353/353 [==============================] - 8s 23ms/step - loss: 0.0076 - accuracy: 0.9978\n",
      "Epoch 46/50\n",
      "353/353 [==============================] - 8s 23ms/step - loss: 0.0071 - accuracy: 0.9980\n",
      "Epoch 47/50\n",
      "353/353 [==============================] - 8s 23ms/step - loss: 0.0066 - accuracy: 0.9981\n",
      "Epoch 48/50\n",
      "353/353 [==============================] - 8s 24ms/step - loss: 0.1089 - accuracy: 0.9802\n",
      "Epoch 49/50\n",
      "353/353 [==============================] - 8s 23ms/step - loss: 0.1477 - accuracy: 0.9558\n",
      "Epoch 50/50\n",
      "353/353 [==============================] - 8s 23ms/step - loss: 0.0413 - accuracy: 0.9894\n"
     ]
    }
   ],
   "source": [
    "with tf.device(\"/device:CPU:0\"):\n",
    "    # 모델의 설정\n",
    "    model = Sequential()\n",
    "    model.add(Dense(512,  input_dim=10201 , activation='relu'))\n",
    "    model.add(Dense(1, activation='sigmoid'))\n",
    "    \n",
    "    # 모델 컴파일\n",
    "    model.compile(loss='binary_crossentropy',\n",
    "                optimizer='adam',\n",
    "                metrics=['accuracy'])\n",
    "    \n",
    "    # 모델 실행\n",
    "    model.fit(x_train, y_train, epochs=50, batch_size=32)"
   ]
  },
  {
   "cell_type": "code",
   "execution_count": 58,
   "id": "8ce3f0d7",
   "metadata": {},
   "outputs": [],
   "source": [
    "with tf.device(\"/device:CPU:0\"):\n",
    "    y_pred = model.predict(x_test)\n",
    "    \n",
    "    predic =[]\n",
    "    for i in range(len(y_pred)):\n",
    "        if y_pred[i]<0.5:\n",
    "            predic.append(0)\n",
    "        else:\n",
    "            predic.append(1)"
   ]
  },
  {
   "cell_type": "code",
   "execution_count": 59,
   "id": "d9b44ad3",
   "metadata": {},
   "outputs": [
    {
     "name": "stdout",
     "output_type": "stream",
     "text": [
      "0.6184419713831478\n",
      "0.7137246796196776\n",
      "0.6275880613068029\n",
      "0.6965473157491815\n",
      "0.6370087336244541\n"
     ]
    }
   ],
   "source": [
    "print(recall_score(y_test, predic))\n",
    "print(accuracy_score(y_test,predic)) \n",
    "print(f1_score(y_test,predic))       \n",
    "print(roc_auc_score(y_test,predic))\n",
    "print(precision_score(y_test,predic))"
   ]
  }
 ],
 "metadata": {
  "kernelspec": {
   "display_name": "Python 3 (ipykernel)",
   "language": "python",
   "name": "python3"
  },
  "language_info": {
   "codemirror_mode": {
    "name": "ipython",
    "version": 3
   },
   "file_extension": ".py",
   "mimetype": "text/x-python",
   "name": "python",
   "nbconvert_exporter": "python",
   "pygments_lexer": "ipython3",
   "version": "3.9.7"
  }
 },
 "nbformat": 4,
 "nbformat_minor": 5
}
