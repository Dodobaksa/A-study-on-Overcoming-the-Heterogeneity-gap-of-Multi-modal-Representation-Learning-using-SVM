{
 "cells": [
  {
   "cell_type": "code",
   "execution_count": 1,
   "id": "cafb8426",
   "metadata": {},
   "outputs": [],
   "source": [
    "import pandas as pd\n",
    "import numpy as np\n",
    "import os"
   ]
  },
  {
   "cell_type": "code",
   "execution_count": 2,
   "id": "2d192349",
   "metadata": {},
   "outputs": [],
   "source": [
    "data = pd.read_csv('multimodal_validate.tsv', sep=\"\\t\")"
   ]
  },
  {
   "cell_type": "code",
   "execution_count": 3,
   "id": "26f67554",
   "metadata": {},
   "outputs": [],
   "source": [
    "data = data[['clean_title','id','2_way_label','3_way_label','6_way_label']]"
   ]
  },
  {
   "cell_type": "code",
   "execution_count": 4,
   "id": "8bad8e28",
   "metadata": {},
   "outputs": [],
   "source": [
    "path = \"./images\"\n",
    "file_list = os.listdir(path)"
   ]
  },
  {
   "cell_type": "code",
   "execution_count": 5,
   "id": "a570f68c",
   "metadata": {},
   "outputs": [],
   "source": [
    "data['id'] = data['id']+'.jpg'"
   ]
  },
  {
   "cell_type": "code",
   "execution_count": 6,
   "id": "ef1f15ff",
   "metadata": {},
   "outputs": [],
   "source": [
    "img = pd.DataFrame(file_list)"
   ]
  },
  {
   "cell_type": "code",
   "execution_count": 7,
   "id": "433dd334",
   "metadata": {},
   "outputs": [],
   "source": [
    "img['이미지있음']=1"
   ]
  },
  {
   "cell_type": "code",
   "execution_count": 8,
   "id": "64d28e1b",
   "metadata": {},
   "outputs": [
    {
     "data": {
      "text/html": [
       "<div>\n",
       "<style scoped>\n",
       "    .dataframe tbody tr th:only-of-type {\n",
       "        vertical-align: middle;\n",
       "    }\n",
       "\n",
       "    .dataframe tbody tr th {\n",
       "        vertical-align: top;\n",
       "    }\n",
       "\n",
       "    .dataframe thead th {\n",
       "        text-align: right;\n",
       "    }\n",
       "</style>\n",
       "<table border=\"1\" class=\"dataframe\">\n",
       "  <thead>\n",
       "    <tr style=\"text-align: right;\">\n",
       "      <th></th>\n",
       "      <th>clean_title</th>\n",
       "      <th>id</th>\n",
       "      <th>2_way_label</th>\n",
       "      <th>3_way_label</th>\n",
       "      <th>6_way_label</th>\n",
       "    </tr>\n",
       "  </thead>\n",
       "  <tbody>\n",
       "    <tr>\n",
       "      <th>0</th>\n",
       "      <td>my xbox controller says hi</td>\n",
       "      <td>cypw96.jpg</td>\n",
       "      <td>1</td>\n",
       "      <td>0</td>\n",
       "      <td>0</td>\n",
       "    </tr>\n",
       "    <tr>\n",
       "      <th>1</th>\n",
       "      <td>new image from the mandalorian</td>\n",
       "      <td>d0bzlq.jpg</td>\n",
       "      <td>1</td>\n",
       "      <td>0</td>\n",
       "      <td>0</td>\n",
       "    </tr>\n",
       "    <tr>\n",
       "      <th>2</th>\n",
       "      <td>say hello to my little friend</td>\n",
       "      <td>d2ezoob.jpg</td>\n",
       "      <td>0</td>\n",
       "      <td>2</td>\n",
       "      <td>4</td>\n",
       "    </tr>\n",
       "    <tr>\n",
       "      <th>3</th>\n",
       "      <td>watch your step little one</td>\n",
       "      <td>cjqctpw.jpg</td>\n",
       "      <td>0</td>\n",
       "      <td>2</td>\n",
       "      <td>4</td>\n",
       "    </tr>\n",
       "    <tr>\n",
       "      <th>4</th>\n",
       "      <td>this tree i found with a solo cup on it</td>\n",
       "      <td>bq3yuk.jpg</td>\n",
       "      <td>1</td>\n",
       "      <td>0</td>\n",
       "      <td>0</td>\n",
       "    </tr>\n",
       "    <tr>\n",
       "      <th>...</th>\n",
       "      <td>...</td>\n",
       "      <td>...</td>\n",
       "      <td>...</td>\n",
       "      <td>...</td>\n",
       "      <td>...</td>\n",
       "    </tr>\n",
       "    <tr>\n",
       "      <th>59337</th>\n",
       "      <td>russian bid to influence brexit vote detailed ...</td>\n",
       "      <td>az1zlp.jpg</td>\n",
       "      <td>1</td>\n",
       "      <td>0</td>\n",
       "      <td>0</td>\n",
       "    </tr>\n",
       "    <tr>\n",
       "      <th>59338</th>\n",
       "      <td>nicaraguan bank sanctioned by us shuts down</td>\n",
       "      <td>bjb8g9.jpg</td>\n",
       "      <td>1</td>\n",
       "      <td>0</td>\n",
       "      <td>0</td>\n",
       "    </tr>\n",
       "    <tr>\n",
       "      <th>59339</th>\n",
       "      <td>this column and emergency light</td>\n",
       "      <td>737mcu.jpg</td>\n",
       "      <td>0</td>\n",
       "      <td>2</td>\n",
       "      <td>2</td>\n",
       "    </tr>\n",
       "    <tr>\n",
       "      <th>59340</th>\n",
       "      <td>so proud</td>\n",
       "      <td>c8gnd59.jpg</td>\n",
       "      <td>0</td>\n",
       "      <td>2</td>\n",
       "      <td>4</td>\n",
       "    </tr>\n",
       "    <tr>\n",
       "      <th>59341</th>\n",
       "      <td>i tried</td>\n",
       "      <td>dkhfq81.jpg</td>\n",
       "      <td>0</td>\n",
       "      <td>2</td>\n",
       "      <td>4</td>\n",
       "    </tr>\n",
       "  </tbody>\n",
       "</table>\n",
       "<p>59342 rows × 5 columns</p>\n",
       "</div>"
      ],
      "text/plain": [
       "                                             clean_title           id  \\\n",
       "0                             my xbox controller says hi   cypw96.jpg   \n",
       "1                         new image from the mandalorian   d0bzlq.jpg   \n",
       "2                          say hello to my little friend  d2ezoob.jpg   \n",
       "3                             watch your step little one  cjqctpw.jpg   \n",
       "4                this tree i found with a solo cup on it   bq3yuk.jpg   \n",
       "...                                                  ...          ...   \n",
       "59337  russian bid to influence brexit vote detailed ...   az1zlp.jpg   \n",
       "59338        nicaraguan bank sanctioned by us shuts down   bjb8g9.jpg   \n",
       "59339                    this column and emergency light   737mcu.jpg   \n",
       "59340                                           so proud  c8gnd59.jpg   \n",
       "59341                                            i tried  dkhfq81.jpg   \n",
       "\n",
       "       2_way_label  3_way_label  6_way_label  \n",
       "0                1            0            0  \n",
       "1                1            0            0  \n",
       "2                0            2            4  \n",
       "3                0            2            4  \n",
       "4                1            0            0  \n",
       "...            ...          ...          ...  \n",
       "59337            1            0            0  \n",
       "59338            1            0            0  \n",
       "59339            0            2            2  \n",
       "59340            0            2            4  \n",
       "59341            0            2            4  \n",
       "\n",
       "[59342 rows x 5 columns]"
      ]
     },
     "execution_count": 8,
     "metadata": {},
     "output_type": "execute_result"
    }
   ],
   "source": [
    "data"
   ]
  },
  {
   "cell_type": "code",
   "execution_count": 9,
   "id": "46a729e7",
   "metadata": {},
   "outputs": [],
   "source": [
    "con=pd.merge(data,img,how='left',left_on='id',right_on=0)"
   ]
  },
  {
   "cell_type": "code",
   "execution_count": 10,
   "id": "ebc07abb",
   "metadata": {},
   "outputs": [],
   "source": [
    "con=con.dropna()"
   ]
  },
  {
   "cell_type": "code",
   "execution_count": 11,
   "id": "9d06d227",
   "metadata": {},
   "outputs": [],
   "source": [
    "con['imgp_path'] = './images/'+con['id']"
   ]
  },
  {
   "cell_type": "code",
   "execution_count": 12,
   "id": "76be7b5b",
   "metadata": {},
   "outputs": [],
   "source": [
    "con=con[['clean_title','imgp_path','2_way_label','3_way_label','6_way_label']]"
   ]
  },
  {
   "cell_type": "code",
   "execution_count": 13,
   "id": "db829ecc",
   "metadata": {},
   "outputs": [],
   "source": [
    "con.reset_index(drop=True,inplace=True)"
   ]
  },
  {
   "cell_type": "code",
   "execution_count": 14,
   "id": "a10044cb",
   "metadata": {},
   "outputs": [],
   "source": [
    "con.to_csv('./cleaned_data.csv',index=False)"
   ]
  }
 ],
 "metadata": {
  "kernelspec": {
   "display_name": "Python 3 (ipykernel)",
   "language": "python",
   "name": "python3"
  },
  "language_info": {
   "codemirror_mode": {
    "name": "ipython",
    "version": 3
   },
   "file_extension": ".py",
   "mimetype": "text/x-python",
   "name": "python",
   "nbconvert_exporter": "python",
   "pygments_lexer": "ipython3",
   "version": "3.9.7"
  }
 },
 "nbformat": 4,
 "nbformat_minor": 5
}
